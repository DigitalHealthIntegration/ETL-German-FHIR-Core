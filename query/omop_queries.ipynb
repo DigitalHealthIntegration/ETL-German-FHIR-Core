{
 "cells": [
  {
   "cell_type": "markdown",
   "id": "ad98c696-d7a4-4925-b675-951c72c1b4a1",
   "metadata": {},
   "source": [
    "# OMOP Data Exploration and Analysis with PostgreSQL\n",
    "\n",
    "This jupyter notebook includes a example for querying and analyzing OMOP(Observational Medical Outcomes Partnership) data stored in a PostgreSQL database. The notebook covers essential steps, from establishing a connection to the database to executing SQL queries, and visualizing key insights.\n",
    "\n",
    "https://www.ohdsi.org/data-standardization/"
   ]
  },
  {
   "cell_type": "markdown",
   "id": "7827bc87-6ed0-4255-91af-fc6fb61d311e",
   "metadata": {},
   "source": [
    "### Importing required Libraries\n",
    "\n",
    "- **psycopg2** For establishing a connection between python and a PostgreSQL database.\n",
    "- **pandas** For efficient data handling, manipulation nad analysis of data.\n",
    "- **sqlio** For executing SQL queries and reading the results directly into pandas dataframe."
   ]
  },
  {
   "cell_type": "code",
   "execution_count": 32,
   "id": "458e5356-0d47-47d0-9682-e00e8dc36006",
   "metadata": {},
   "outputs": [],
   "source": [
    "import pandas as pd\n",
    "import pandas.io.sql as sqlio\n",
    "import psycopg2 as ps\n",
    "import warnings\n",
    "\n",
    "warnings.filterwarnings('ignore') #ignoring warning related to sqlio and sql alchemy. Will improve this."
   ]
  },
  {
   "cell_type": "markdown",
   "id": "87c660e4-44b3-4f43-95df-3eaa5d9ea293",
   "metadata": {},
   "source": [
    "### Database connection and setup\n",
    "\n",
    "Please change the username password to your OMOP DB."
   ]
  },
  {
   "cell_type": "code",
   "execution_count": 33,
   "id": "36d769d9-d723-4ecc-8797-cda84dd6cc11",
   "metadata": {},
   "outputs": [],
   "source": [
    "conn = ps.connect(dbname=\"ohdsi\",\n",
    "                   user = \"ohdsi_admin_user\",\n",
    "                   password = \"admin1\",\n",
    "                   host = \"omop-db-postgress\",\n",
    "                   port = \"5432\")"
   ]
  },
  {
   "cell_type": "markdown",
   "id": "b38fa84b-9574-49cf-b25c-a9f85eafbbeb",
   "metadata": {},
   "source": [
    "### Number of Person"
   ]
  },
  {
   "cell_type": "code",
   "execution_count": 34,
   "id": "aa6c0f33-352b-44a7-9411-4c6b20e8afa8",
   "metadata": {},
   "outputs": [
    {
     "data": {
      "text/html": [
       "<div>\n",
       "<style scoped>\n",
       "    .dataframe tbody tr th:only-of-type {\n",
       "        vertical-align: middle;\n",
       "    }\n",
       "\n",
       "    .dataframe tbody tr th {\n",
       "        vertical-align: top;\n",
       "    }\n",
       "\n",
       "    .dataframe thead th {\n",
       "        text-align: right;\n",
       "    }\n",
       "</style>\n",
       "<table border=\"1\" class=\"dataframe\">\n",
       "  <thead>\n",
       "    <tr style=\"text-align: right;\">\n",
       "      <th></th>\n",
       "      <th>count</th>\n",
       "    </tr>\n",
       "  </thead>\n",
       "  <tbody>\n",
       "    <tr>\n",
       "      <th>0</th>\n",
       "      <td>47</td>\n",
       "    </tr>\n",
       "  </tbody>\n",
       "</table>\n",
       "</div>"
      ],
      "text/plain": [
       "   count\n",
       "0     47"
      ]
     },
     "execution_count": 34,
     "metadata": {},
     "output_type": "execute_result"
    }
   ],
   "source": [
    "df = sqlio.read_sql_query(\"SELECT COUNT(*) FROM cds_cdm.person\", conn)\n",
    "df.head()"
   ]
  },
  {
   "cell_type": "markdown",
   "id": "62e238fa-ea67-4e23-b785-e81c81c91a27",
   "metadata": {},
   "source": [
    "### Number of Observation"
   ]
  },
  {
   "cell_type": "code",
   "execution_count": 35,
   "id": "f61870f3-95ad-4edd-8663-5e1e3e76583d",
   "metadata": {},
   "outputs": [
    {
     "data": {
      "text/html": [
       "<div>\n",
       "<style scoped>\n",
       "    .dataframe tbody tr th:only-of-type {\n",
       "        vertical-align: middle;\n",
       "    }\n",
       "\n",
       "    .dataframe tbody tr th {\n",
       "        vertical-align: top;\n",
       "    }\n",
       "\n",
       "    .dataframe thead th {\n",
       "        text-align: right;\n",
       "    }\n",
       "</style>\n",
       "<table border=\"1\" class=\"dataframe\">\n",
       "  <thead>\n",
       "    <tr style=\"text-align: right;\">\n",
       "      <th></th>\n",
       "      <th>count</th>\n",
       "    </tr>\n",
       "  </thead>\n",
       "  <tbody>\n",
       "    <tr>\n",
       "      <th>0</th>\n",
       "      <td>4035</td>\n",
       "    </tr>\n",
       "  </tbody>\n",
       "</table>\n",
       "</div>"
      ],
      "text/plain": [
       "   count\n",
       "0   4035"
      ]
     },
     "execution_count": 35,
     "metadata": {},
     "output_type": "execute_result"
    }
   ],
   "source": [
    "df = sqlio.read_sql_query(\"SELECT COUNT(*) FROM cds_cdm.observation\", conn)\n",
    "df.head()"
   ]
  },
  {
   "cell_type": "markdown",
   "id": "bb52945d-337c-4d3e-b18e-c14728768f9a",
   "metadata": {},
   "source": [
    "### Number of Death"
   ]
  },
  {
   "cell_type": "code",
   "execution_count": 36,
   "id": "dcf1bb32-07e0-4578-8467-44384e8bdd1c",
   "metadata": {},
   "outputs": [
    {
     "data": {
      "text/html": [
       "<div>\n",
       "<style scoped>\n",
       "    .dataframe tbody tr th:only-of-type {\n",
       "        vertical-align: middle;\n",
       "    }\n",
       "\n",
       "    .dataframe tbody tr th {\n",
       "        vertical-align: top;\n",
       "    }\n",
       "\n",
       "    .dataframe thead th {\n",
       "        text-align: right;\n",
       "    }\n",
       "</style>\n",
       "<table border=\"1\" class=\"dataframe\">\n",
       "  <thead>\n",
       "    <tr style=\"text-align: right;\">\n",
       "      <th></th>\n",
       "      <th>count</th>\n",
       "    </tr>\n",
       "  </thead>\n",
       "  <tbody>\n",
       "    <tr>\n",
       "      <th>0</th>\n",
       "      <td>13</td>\n",
       "    </tr>\n",
       "  </tbody>\n",
       "</table>\n",
       "</div>"
      ],
      "text/plain": [
       "   count\n",
       "0     13"
      ]
     },
     "execution_count": 36,
     "metadata": {},
     "output_type": "execute_result"
    }
   ],
   "source": [
    "df = sqlio.read_sql_query(\"SELECT COUNT(*) FROM cds_cdm.death\", conn)\n",
    "df.head()"
   ]
  },
  {
   "cell_type": "markdown",
   "id": "da096dc8-72f9-4609-a5b9-e3429cc103c5",
   "metadata": {},
   "source": [
    "### Number of Procedure"
   ]
  },
  {
   "cell_type": "code",
   "execution_count": 37,
   "id": "ec2cae46-d2d3-4931-9d75-1e384d3415ab",
   "metadata": {},
   "outputs": [
    {
     "data": {
      "text/html": [
       "<div>\n",
       "<style scoped>\n",
       "    .dataframe tbody tr th:only-of-type {\n",
       "        vertical-align: middle;\n",
       "    }\n",
       "\n",
       "    .dataframe tbody tr th {\n",
       "        vertical-align: top;\n",
       "    }\n",
       "\n",
       "    .dataframe thead th {\n",
       "        text-align: right;\n",
       "    }\n",
       "</style>\n",
       "<table border=\"1\" class=\"dataframe\">\n",
       "  <thead>\n",
       "    <tr style=\"text-align: right;\">\n",
       "      <th></th>\n",
       "      <th>count</th>\n",
       "    </tr>\n",
       "  </thead>\n",
       "  <tbody>\n",
       "    <tr>\n",
       "      <th>0</th>\n",
       "      <td>3881</td>\n",
       "    </tr>\n",
       "  </tbody>\n",
       "</table>\n",
       "</div>"
      ],
      "text/plain": [
       "   count\n",
       "0   3881"
      ]
     },
     "execution_count": 37,
     "metadata": {},
     "output_type": "execute_result"
    }
   ],
   "source": [
    "df = sqlio.read_sql_query(\"SELECT COUNT(*) FROM cds_cdm.procedure_occurrence\", conn)\n",
    "df.head()"
   ]
  },
  {
   "cell_type": "markdown",
   "id": "c16e0af4-1ddf-48f4-9834-94e21700e14a",
   "metadata": {},
   "source": [
    "### Number of measurements eg: Height, Weight etc."
   ]
  },
  {
   "cell_type": "code",
   "execution_count": 38,
   "id": "9fcf177c-5ece-44ed-a13b-a860107a96ac",
   "metadata": {},
   "outputs": [
    {
     "data": {
      "text/html": [
       "<div>\n",
       "<style scoped>\n",
       "    .dataframe tbody tr th:only-of-type {\n",
       "        vertical-align: middle;\n",
       "    }\n",
       "\n",
       "    .dataframe tbody tr th {\n",
       "        vertical-align: top;\n",
       "    }\n",
       "\n",
       "    .dataframe thead th {\n",
       "        text-align: right;\n",
       "    }\n",
       "</style>\n",
       "<table border=\"1\" class=\"dataframe\">\n",
       "  <thead>\n",
       "    <tr style=\"text-align: right;\">\n",
       "      <th></th>\n",
       "      <th>count</th>\n",
       "    </tr>\n",
       "  </thead>\n",
       "  <tbody>\n",
       "    <tr>\n",
       "      <th>0</th>\n",
       "      <td>44525</td>\n",
       "    </tr>\n",
       "  </tbody>\n",
       "</table>\n",
       "</div>"
      ],
      "text/plain": [
       "   count\n",
       "0  44525"
      ]
     },
     "execution_count": 38,
     "metadata": {},
     "output_type": "execute_result"
    }
   ],
   "source": [
    "df = sqlio.read_sql_query(\"SELECT COUNT(*) FROM cds_cdm.measurement\", conn)\n",
    "df.head()"
   ]
  },
  {
   "cell_type": "markdown",
   "id": "1688363e-a733-45d9-ad8f-b893096ef2c1",
   "metadata": {},
   "source": [
    "### Describe Height meaurements"
   ]
  },
  {
   "cell_type": "code",
   "execution_count": 39,
   "id": "8e8b3b1f-483a-435e-bfb6-42ad4bb72e67",
   "metadata": {},
   "outputs": [
    {
     "data": {
      "text/plain": [
       "count    947.000000\n",
       "mean     160.307075\n",
       "std       25.719697\n",
       "min       51.200000\n",
       "25%      163.200000\n",
       "50%      170.300000\n",
       "75%      175.400000\n",
       "max      186.000000\n",
       "Name: value_as_number, dtype: float64"
      ]
     },
     "execution_count": 39,
     "metadata": {},
     "output_type": "execute_result"
    }
   ],
   "source": [
    "df = sqlio.read_sql_query(\"SELECT * FROM cds_cdm.measurement where measurement_source_concept_id=3036277\", conn)\n",
    "df[\"value_as_number\"].describe()"
   ]
  },
  {
   "cell_type": "code",
   "execution_count": 42,
   "id": "1dbaaf33-1992-4df5-9a6d-5f3a160b6c3d",
   "metadata": {},
   "outputs": [],
   "source": [
    "### Longitudanal "
   ]
  },
  {
   "cell_type": "code",
   "execution_count": 43,
   "id": "8ad9f427-0728-4b37-acc4-c81546a3092a",
   "metadata": {},
   "outputs": [
    {
     "data": {
      "text/html": [
       "<div>\n",
       "<style scoped>\n",
       "    .dataframe tbody tr th:only-of-type {\n",
       "        vertical-align: middle;\n",
       "    }\n",
       "\n",
       "    .dataframe tbody tr th {\n",
       "        vertical-align: top;\n",
       "    }\n",
       "\n",
       "    .dataframe thead th {\n",
       "        text-align: right;\n",
       "    }\n",
       "</style>\n",
       "<table border=\"1\" class=\"dataframe\">\n",
       "  <thead>\n",
       "    <tr style=\"text-align: right;\">\n",
       "      <th></th>\n",
       "      <th>person_id</th>\n",
       "      <th>birth_datetime</th>\n",
       "      <th>care_site_id</th>\n",
       "      <th>day_of_birth</th>\n",
       "      <th>ethnicity_concept_id</th>\n",
       "      <th>ethnicity_source_concept_id</th>\n",
       "      <th>ethnicity_source_value</th>\n",
       "      <th>fhir_identifier</th>\n",
       "      <th>fhir_logical_id</th>\n",
       "      <th>gender_concept_id</th>\n",
       "      <th>gender_source_concept_id</th>\n",
       "      <th>gender_source_value</th>\n",
       "      <th>location_id</th>\n",
       "      <th>month_of_birth</th>\n",
       "      <th>person_source_value</th>\n",
       "      <th>provider_id</th>\n",
       "      <th>race_concept_id</th>\n",
       "      <th>race_source_concept_id</th>\n",
       "      <th>race_source_value</th>\n",
       "      <th>year_of_birth</th>\n",
       "    </tr>\n",
       "  </thead>\n",
       "  <tbody>\n",
       "    <tr>\n",
       "      <th>0</th>\n",
       "      <td>95</td>\n",
       "      <td>None</td>\n",
       "      <td>None</td>\n",
       "      <td>20</td>\n",
       "      <td>0</td>\n",
       "      <td>None</td>\n",
       "      <td>None</td>\n",
       "      <td>pat-e87ea803-bdcd-994e-3f01-108763f1bec4</td>\n",
       "      <td>pat-173541</td>\n",
       "      <td>8532</td>\n",
       "      <td>None</td>\n",
       "      <td>female</td>\n",
       "      <td>None</td>\n",
       "      <td>12</td>\n",
       "      <td>e87ea803-bdcd-994e-3f01-108763f1bec4</td>\n",
       "      <td>None</td>\n",
       "      <td>4218674</td>\n",
       "      <td>None</td>\n",
       "      <td>None</td>\n",
       "      <td>2012</td>\n",
       "    </tr>\n",
       "    <tr>\n",
       "      <th>1</th>\n",
       "      <td>96</td>\n",
       "      <td>None</td>\n",
       "      <td>None</td>\n",
       "      <td>13</td>\n",
       "      <td>0</td>\n",
       "      <td>None</td>\n",
       "      <td>None</td>\n",
       "      <td>pat-1e542b3e-c624-ee67-8a90-0091e8e79004</td>\n",
       "      <td>pat-173827</td>\n",
       "      <td>8507</td>\n",
       "      <td>None</td>\n",
       "      <td>male</td>\n",
       "      <td>None</td>\n",
       "      <td>1</td>\n",
       "      <td>1e542b3e-c624-ee67-8a90-0091e8e79004</td>\n",
       "      <td>None</td>\n",
       "      <td>4218674</td>\n",
       "      <td>None</td>\n",
       "      <td>None</td>\n",
       "      <td>1981</td>\n",
       "    </tr>\n",
       "    <tr>\n",
       "      <th>2</th>\n",
       "      <td>97</td>\n",
       "      <td>None</td>\n",
       "      <td>None</td>\n",
       "      <td>16</td>\n",
       "      <td>0</td>\n",
       "      <td>None</td>\n",
       "      <td>None</td>\n",
       "      <td>pat-62ab9fae-baa5-5d46-b217-607ccf34500c</td>\n",
       "      <td>pat-174072</td>\n",
       "      <td>8507</td>\n",
       "      <td>None</td>\n",
       "      <td>male</td>\n",
       "      <td>None</td>\n",
       "      <td>8</td>\n",
       "      <td>62ab9fae-baa5-5d46-b217-607ccf34500c</td>\n",
       "      <td>None</td>\n",
       "      <td>4218674</td>\n",
       "      <td>None</td>\n",
       "      <td>None</td>\n",
       "      <td>1985</td>\n",
       "    </tr>\n",
       "    <tr>\n",
       "      <th>3</th>\n",
       "      <td>98</td>\n",
       "      <td>None</td>\n",
       "      <td>None</td>\n",
       "      <td>26</td>\n",
       "      <td>0</td>\n",
       "      <td>None</td>\n",
       "      <td>None</td>\n",
       "      <td>pat-d157fe1c-e3bd-09d6-20ad-b275f1dd8bf8</td>\n",
       "      <td>pat-174239</td>\n",
       "      <td>8507</td>\n",
       "      <td>None</td>\n",
       "      <td>male</td>\n",
       "      <td>None</td>\n",
       "      <td>1</td>\n",
       "      <td>d157fe1c-e3bd-09d6-20ad-b275f1dd8bf8</td>\n",
       "      <td>None</td>\n",
       "      <td>4218674</td>\n",
       "      <td>None</td>\n",
       "      <td>None</td>\n",
       "      <td>1975</td>\n",
       "    </tr>\n",
       "    <tr>\n",
       "      <th>4</th>\n",
       "      <td>99</td>\n",
       "      <td>None</td>\n",
       "      <td>None</td>\n",
       "      <td>19</td>\n",
       "      <td>0</td>\n",
       "      <td>None</td>\n",
       "      <td>None</td>\n",
       "      <td>pat-697480bf-e17b-2a7d-c550-d50349dee474</td>\n",
       "      <td>pat-175146</td>\n",
       "      <td>8507</td>\n",
       "      <td>None</td>\n",
       "      <td>male</td>\n",
       "      <td>None</td>\n",
       "      <td>1</td>\n",
       "      <td>697480bf-e17b-2a7d-c550-d50349dee474</td>\n",
       "      <td>None</td>\n",
       "      <td>4218674</td>\n",
       "      <td>None</td>\n",
       "      <td>None</td>\n",
       "      <td>1945</td>\n",
       "    </tr>\n",
       "  </tbody>\n",
       "</table>\n",
       "</div>"
      ],
      "text/plain": [
       "   person_id birth_datetime care_site_id  day_of_birth  ethnicity_concept_id  \\\n",
       "0         95           None         None            20                     0   \n",
       "1         96           None         None            13                     0   \n",
       "2         97           None         None            16                     0   \n",
       "3         98           None         None            26                     0   \n",
       "4         99           None         None            19                     0   \n",
       "\n",
       "  ethnicity_source_concept_id ethnicity_source_value  \\\n",
       "0                        None                   None   \n",
       "1                        None                   None   \n",
       "2                        None                   None   \n",
       "3                        None                   None   \n",
       "4                        None                   None   \n",
       "\n",
       "                            fhir_identifier fhir_logical_id  \\\n",
       "0  pat-e87ea803-bdcd-994e-3f01-108763f1bec4      pat-173541   \n",
       "1  pat-1e542b3e-c624-ee67-8a90-0091e8e79004      pat-173827   \n",
       "2  pat-62ab9fae-baa5-5d46-b217-607ccf34500c      pat-174072   \n",
       "3  pat-d157fe1c-e3bd-09d6-20ad-b275f1dd8bf8      pat-174239   \n",
       "4  pat-697480bf-e17b-2a7d-c550-d50349dee474      pat-175146   \n",
       "\n",
       "   gender_concept_id gender_source_concept_id gender_source_value location_id  \\\n",
       "0               8532                     None              female        None   \n",
       "1               8507                     None                male        None   \n",
       "2               8507                     None                male        None   \n",
       "3               8507                     None                male        None   \n",
       "4               8507                     None                male        None   \n",
       "\n",
       "   month_of_birth                   person_source_value provider_id  \\\n",
       "0              12  e87ea803-bdcd-994e-3f01-108763f1bec4        None   \n",
       "1               1  1e542b3e-c624-ee67-8a90-0091e8e79004        None   \n",
       "2               8  62ab9fae-baa5-5d46-b217-607ccf34500c        None   \n",
       "3               1  d157fe1c-e3bd-09d6-20ad-b275f1dd8bf8        None   \n",
       "4               1  697480bf-e17b-2a7d-c550-d50349dee474        None   \n",
       "\n",
       "   race_concept_id race_source_concept_id race_source_value  year_of_birth  \n",
       "0          4218674                   None              None           2012  \n",
       "1          4218674                   None              None           1981  \n",
       "2          4218674                   None              None           1985  \n",
       "3          4218674                   None              None           1975  \n",
       "4          4218674                   None              None           1945  "
      ]
     },
     "execution_count": 43,
     "metadata": {},
     "output_type": "execute_result"
    }
   ],
   "source": []
  },
  {
   "cell_type": "code",
   "execution_count": null,
   "id": "4dade83c-0350-476c-96a6-5450cf4adf4b",
   "metadata": {},
   "outputs": [],
   "source": []
  }
 ],
 "metadata": {
  "kernelspec": {
   "display_name": "Python 3 (ipykernel)",
   "language": "python",
   "name": "python3"
  },
  "language_info": {
   "codemirror_mode": {
    "name": "ipython",
    "version": 3
   },
   "file_extension": ".py",
   "mimetype": "text/x-python",
   "name": "python",
   "nbconvert_exporter": "python",
   "pygments_lexer": "ipython3",
   "version": "3.10.11"
  }
 },
 "nbformat": 4,
 "nbformat_minor": 5
}
