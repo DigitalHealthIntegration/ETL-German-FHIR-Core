{
 "cells": [
  {
   "cell_type": "markdown",
   "id": "ad98c696-d7a4-4925-b675-951c72c1b4a1",
   "metadata": {},
   "source": [
    "# OMOP Data Exploration and Analysis with PostgreSQL\n",
    "\n",
    "This jupyter notebook includes a example for querying and analyzing OMOP(Observational Medical Outcomes Partnership) data stored in a PostgreSQL database. The notebook covers essential steps, from establishing a connection to the database to executing SQL queries, and visualizing key insights.\n",
    "\n",
    "https://www.ohdsi.org/data-standardization/"
   ]
  },
  {
   "cell_type": "markdown",
   "id": "7827bc87-6ed0-4255-91af-fc6fb61d311e",
   "metadata": {},
   "source": [
    "### Importing required Libraries\n",
    "\n",
    "- **psycopg2** For establishing a connection between python and a PostgreSQL database.\n",
    "- **pandas** For efficient data handling, manipulation nad analysis of data.\n",
    "- **sqlio** For executing SQL queries and reading the results directly into pandas dataframe."
   ]
  },
  {
   "cell_type": "code",
   "execution_count": 1,
   "id": "458e5356-0d47-47d0-9682-e00e8dc36006",
   "metadata": {},
   "outputs": [],
   "source": [
    "import pandas as pd\n",
    "import pandas.io.sql as sqlio\n",
    "import psycopg2 as ps\n",
    "import warnings\n",
    "\n",
    "warnings.filterwarnings('ignore') #ignoring warning related to sqlio and sql alchemy. Will improve this."
   ]
  },
  {
   "cell_type": "markdown",
   "id": "87c660e4-44b3-4f43-95df-3eaa5d9ea293",
   "metadata": {},
   "source": [
    "### Database connection and setup\n",
    "\n",
    "Please change the username password to your OMOP DB."
   ]
  },
  {
   "cell_type": "code",
   "execution_count": 2,
   "id": "36d769d9-d723-4ecc-8797-cda84dd6cc11",
   "metadata": {},
   "outputs": [],
   "source": [
    "conn = ps.connect(dbname=\"ohdsi\",\n",
    "                   user = \"ohdsi_admin_user\",\n",
    "                   password = \"admin1\",\n",
    "                   host = \"omop-db-postgress\",\n",
    "                   port = \"5432\")"
   ]
  },
  {
   "cell_type": "markdown",
   "id": "b38fa84b-9574-49cf-b25c-a9f85eafbbeb",
   "metadata": {},
   "source": [
    "## Initial Analysis - Query Counts from OMOP DB\n",
    "### Number of Person"
   ]
  },
  {
   "cell_type": "code",
   "execution_count": 3,
   "id": "aa6c0f33-352b-44a7-9411-4c6b20e8afa8",
   "metadata": {},
   "outputs": [
    {
     "data": {
      "text/html": [
       "<div>\n",
       "<style scoped>\n",
       "    .dataframe tbody tr th:only-of-type {\n",
       "        vertical-align: middle;\n",
       "    }\n",
       "\n",
       "    .dataframe tbody tr th {\n",
       "        vertical-align: top;\n",
       "    }\n",
       "\n",
       "    .dataframe thead th {\n",
       "        text-align: right;\n",
       "    }\n",
       "</style>\n",
       "<table border=\"1\" class=\"dataframe\">\n",
       "  <thead>\n",
       "    <tr style=\"text-align: right;\">\n",
       "      <th></th>\n",
       "      <th>count</th>\n",
       "    </tr>\n",
       "  </thead>\n",
       "  <tbody>\n",
       "    <tr>\n",
       "      <th>0</th>\n",
       "      <td>130</td>\n",
       "    </tr>\n",
       "  </tbody>\n",
       "</table>\n",
       "</div>"
      ],
      "text/plain": [
       "   count\n",
       "0    130"
      ]
     },
     "execution_count": 3,
     "metadata": {},
     "output_type": "execute_result"
    }
   ],
   "source": [
    "df = sqlio.read_sql_query(\"SELECT COUNT(*) FROM cds_cdm.person\", conn)\n",
    "df.head()"
   ]
  },
  {
   "cell_type": "markdown",
   "id": "62e238fa-ea67-4e23-b785-e81c81c91a27",
   "metadata": {},
   "source": [
    "### Number of Observation"
   ]
  },
  {
   "cell_type": "code",
   "execution_count": 4,
   "id": "f61870f3-95ad-4edd-8663-5e1e3e76583d",
   "metadata": {},
   "outputs": [
    {
     "data": {
      "text/html": [
       "<div>\n",
       "<style scoped>\n",
       "    .dataframe tbody tr th:only-of-type {\n",
       "        vertical-align: middle;\n",
       "    }\n",
       "\n",
       "    .dataframe tbody tr th {\n",
       "        vertical-align: top;\n",
       "    }\n",
       "\n",
       "    .dataframe thead th {\n",
       "        text-align: right;\n",
       "    }\n",
       "</style>\n",
       "<table border=\"1\" class=\"dataframe\">\n",
       "  <thead>\n",
       "    <tr style=\"text-align: right;\">\n",
       "      <th></th>\n",
       "      <th>count</th>\n",
       "    </tr>\n",
       "  </thead>\n",
       "  <tbody>\n",
       "    <tr>\n",
       "      <th>0</th>\n",
       "      <td>9040</td>\n",
       "    </tr>\n",
       "  </tbody>\n",
       "</table>\n",
       "</div>"
      ],
      "text/plain": [
       "   count\n",
       "0   9040"
      ]
     },
     "execution_count": 4,
     "metadata": {},
     "output_type": "execute_result"
    }
   ],
   "source": [
    "df = sqlio.read_sql_query(\"SELECT COUNT(*) FROM cds_cdm.observation\", conn)\n",
    "df.head()"
   ]
  },
  {
   "cell_type": "markdown",
   "id": "bb52945d-337c-4d3e-b18e-c14728768f9a",
   "metadata": {},
   "source": [
    "### Number of Death"
   ]
  },
  {
   "cell_type": "code",
   "execution_count": 5,
   "id": "dcf1bb32-07e0-4578-8467-44384e8bdd1c",
   "metadata": {},
   "outputs": [
    {
     "data": {
      "text/html": [
       "<div>\n",
       "<style scoped>\n",
       "    .dataframe tbody tr th:only-of-type {\n",
       "        vertical-align: middle;\n",
       "    }\n",
       "\n",
       "    .dataframe tbody tr th {\n",
       "        vertical-align: top;\n",
       "    }\n",
       "\n",
       "    .dataframe thead th {\n",
       "        text-align: right;\n",
       "    }\n",
       "</style>\n",
       "<table border=\"1\" class=\"dataframe\">\n",
       "  <thead>\n",
       "    <tr style=\"text-align: right;\">\n",
       "      <th></th>\n",
       "      <th>count</th>\n",
       "    </tr>\n",
       "  </thead>\n",
       "  <tbody>\n",
       "    <tr>\n",
       "      <th>0</th>\n",
       "      <td>30</td>\n",
       "    </tr>\n",
       "  </tbody>\n",
       "</table>\n",
       "</div>"
      ],
      "text/plain": [
       "   count\n",
       "0     30"
      ]
     },
     "execution_count": 5,
     "metadata": {},
     "output_type": "execute_result"
    }
   ],
   "source": [
    "df = sqlio.read_sql_query(\"SELECT COUNT(*) FROM cds_cdm.death\", conn)\n",
    "df.head()"
   ]
  },
  {
   "cell_type": "markdown",
   "id": "da096dc8-72f9-4609-a5b9-e3429cc103c5",
   "metadata": {},
   "source": [
    "### Number of Procedure"
   ]
  },
  {
   "cell_type": "code",
   "execution_count": 6,
   "id": "ec2cae46-d2d3-4931-9d75-1e384d3415ab",
   "metadata": {},
   "outputs": [
    {
     "data": {
      "text/html": [
       "<div>\n",
       "<style scoped>\n",
       "    .dataframe tbody tr th:only-of-type {\n",
       "        vertical-align: middle;\n",
       "    }\n",
       "\n",
       "    .dataframe tbody tr th {\n",
       "        vertical-align: top;\n",
       "    }\n",
       "\n",
       "    .dataframe thead th {\n",
       "        text-align: right;\n",
       "    }\n",
       "</style>\n",
       "<table border=\"1\" class=\"dataframe\">\n",
       "  <thead>\n",
       "    <tr style=\"text-align: right;\">\n",
       "      <th></th>\n",
       "      <th>count</th>\n",
       "    </tr>\n",
       "  </thead>\n",
       "  <tbody>\n",
       "    <tr>\n",
       "      <th>0</th>\n",
       "      <td>9400</td>\n",
       "    </tr>\n",
       "  </tbody>\n",
       "</table>\n",
       "</div>"
      ],
      "text/plain": [
       "   count\n",
       "0   9400"
      ]
     },
     "execution_count": 6,
     "metadata": {},
     "output_type": "execute_result"
    }
   ],
   "source": [
    "df = sqlio.read_sql_query(\"SELECT COUNT(*) FROM cds_cdm.procedure_occurrence\", conn)\n",
    "df.head()"
   ]
  },
  {
   "cell_type": "markdown",
   "id": "c16e0af4-1ddf-48f4-9834-94e21700e14a",
   "metadata": {},
   "source": [
    "### Number of measurements eg: Height, Weight etc."
   ]
  },
  {
   "cell_type": "code",
   "execution_count": 7,
   "id": "9fcf177c-5ece-44ed-a13b-a860107a96ac",
   "metadata": {},
   "outputs": [
    {
     "data": {
      "text/html": [
       "<div>\n",
       "<style scoped>\n",
       "    .dataframe tbody tr th:only-of-type {\n",
       "        vertical-align: middle;\n",
       "    }\n",
       "\n",
       "    .dataframe tbody tr th {\n",
       "        vertical-align: top;\n",
       "    }\n",
       "\n",
       "    .dataframe thead th {\n",
       "        text-align: right;\n",
       "    }\n",
       "</style>\n",
       "<table border=\"1\" class=\"dataframe\">\n",
       "  <thead>\n",
       "    <tr style=\"text-align: right;\">\n",
       "      <th></th>\n",
       "      <th>count</th>\n",
       "    </tr>\n",
       "  </thead>\n",
       "  <tbody>\n",
       "    <tr>\n",
       "      <th>0</th>\n",
       "      <td>97089</td>\n",
       "    </tr>\n",
       "  </tbody>\n",
       "</table>\n",
       "</div>"
      ],
      "text/plain": [
       "   count\n",
       "0  97089"
      ]
     },
     "execution_count": 7,
     "metadata": {},
     "output_type": "execute_result"
    }
   ],
   "source": [
    "df = sqlio.read_sql_query(\"SELECT COUNT(*) FROM cds_cdm.measurement\", conn)\n",
    "df.head()"
   ]
  },
  {
   "cell_type": "markdown",
   "id": "1688363e-a733-45d9-ad8f-b893096ef2c1",
   "metadata": {},
   "source": [
    "### Describe Height meaurements"
   ]
  },
  {
   "cell_type": "code",
   "execution_count": 8,
   "id": "8e8b3b1f-483a-435e-bfb6-42ad4bb72e67",
   "metadata": {},
   "outputs": [
    {
     "data": {
      "text/plain": [
       "count    2048.000000\n",
       "mean      160.541455\n",
       "std        27.589257\n",
       "min        51.100000\n",
       "25%       162.700000\n",
       "50%       170.000000\n",
       "75%       175.400000\n",
       "max       189.300000\n",
       "Name: value_as_number, dtype: float64"
      ]
     },
     "execution_count": 8,
     "metadata": {},
     "output_type": "execute_result"
    }
   ],
   "source": [
    "df = sqlio.read_sql_query(\"SELECT * FROM cds_cdm.measurement where measurement_source_concept_id=3036277\", conn)\n",
    "df[\"value_as_number\"].describe()"
   ]
  },
  {
   "cell_type": "code",
   "execution_count": null,
   "id": "35b1c179-91c9-4b50-bc96-7411ab4d515c",
   "metadata": {},
   "outputs": [],
   "source": []
  },
  {
   "cell_type": "markdown",
   "id": "11187c94-9507-4f5f-ae74-28e712c9016c",
   "metadata": {},
   "source": [
    "## Procedure specific longitudinal Analysis"
   ]
  },
  {
   "cell_type": "markdown",
   "id": "eada99aa-28d6-4f4c-8c9e-90245ec87f3b",
   "metadata": {},
   "source": [
    "### Enter OMOP code for a procedure eg: Mammography for breast cancer\n",
    "#### Search example\n",
    "https://athena.ohdsi.org/search-terms/terms?conceptClass=Procedure&page=1&pageSize=15&query=Mammography&boosts "
   ]
  },
  {
   "cell_type": "code",
   "execution_count": 124,
   "id": "d4013a2a-434e-4aa0-97e7-2cb33c6584b1",
   "metadata": {},
   "outputs": [
    {
     "data": {
      "text/html": [
       "<div>\n",
       "<style scoped>\n",
       "    .dataframe tbody tr th:only-of-type {\n",
       "        vertical-align: middle;\n",
       "    }\n",
       "\n",
       "    .dataframe tbody tr th {\n",
       "        vertical-align: top;\n",
       "    }\n",
       "\n",
       "    .dataframe thead th {\n",
       "        text-align: right;\n",
       "    }\n",
       "</style>\n",
       "<table border=\"1\" class=\"dataframe\">\n",
       "  <thead>\n",
       "    <tr style=\"text-align: right;\">\n",
       "      <th></th>\n",
       "      <th>procedure_occurrence_id</th>\n",
       "      <th>fhir_identifier</th>\n",
       "      <th>fhir_logical_id</th>\n",
       "      <th>modifier_concept_id</th>\n",
       "      <th>modifier_source_value</th>\n",
       "      <th>person_id</th>\n",
       "      <th>procedure_concept_id</th>\n",
       "      <th>procedure_date</th>\n",
       "      <th>procedure_datetime</th>\n",
       "      <th>procedure_source_concept_id</th>\n",
       "      <th>procedure_source_value</th>\n",
       "      <th>procedure_type_concept_id</th>\n",
       "      <th>provider_id</th>\n",
       "      <th>quantity</th>\n",
       "      <th>visit_detail_id</th>\n",
       "      <th>visit_occurrence_id</th>\n",
       "    </tr>\n",
       "  </thead>\n",
       "  <tbody>\n",
       "    <tr>\n",
       "      <th>0</th>\n",
       "      <td>19543</td>\n",
       "      <td>None</td>\n",
       "      <td>pro-171732</td>\n",
       "      <td>None</td>\n",
       "      <td>None</td>\n",
       "      <td>400</td>\n",
       "      <td>4324693</td>\n",
       "      <td>2021-02-09</td>\n",
       "      <td>2021-02-09 03:54:27</td>\n",
       "      <td>4324693</td>\n",
       "      <td>71651007</td>\n",
       "      <td>32817</td>\n",
       "      <td>None</td>\n",
       "      <td>None</td>\n",
       "      <td>None</td>\n",
       "      <td>None</td>\n",
       "    </tr>\n",
       "    <tr>\n",
       "      <th>1</th>\n",
       "      <td>19524</td>\n",
       "      <td>None</td>\n",
       "      <td>pro-171987</td>\n",
       "      <td>None</td>\n",
       "      <td>None</td>\n",
       "      <td>400</td>\n",
       "      <td>4324693</td>\n",
       "      <td>2023-01-24</td>\n",
       "      <td>2023-01-24 13:14:57</td>\n",
       "      <td>4324693</td>\n",
       "      <td>71651007</td>\n",
       "      <td>32817</td>\n",
       "      <td>None</td>\n",
       "      <td>None</td>\n",
       "      <td>None</td>\n",
       "      <td>None</td>\n",
       "    </tr>\n",
       "    <tr>\n",
       "      <th>2</th>\n",
       "      <td>19683</td>\n",
       "      <td>None</td>\n",
       "      <td>pro-171665</td>\n",
       "      <td>None</td>\n",
       "      <td>None</td>\n",
       "      <td>400</td>\n",
       "      <td>4324693</td>\n",
       "      <td>2020-02-26</td>\n",
       "      <td>2020-02-26 01:15:04</td>\n",
       "      <td>4324693</td>\n",
       "      <td>71651007</td>\n",
       "      <td>32817</td>\n",
       "      <td>None</td>\n",
       "      <td>None</td>\n",
       "      <td>None</td>\n",
       "      <td>None</td>\n",
       "    </tr>\n",
       "    <tr>\n",
       "      <th>3</th>\n",
       "      <td>19705</td>\n",
       "      <td>None</td>\n",
       "      <td>pro-171917</td>\n",
       "      <td>None</td>\n",
       "      <td>None</td>\n",
       "      <td>400</td>\n",
       "      <td>4324693</td>\n",
       "      <td>2022-02-20</td>\n",
       "      <td>2022-02-20 13:25:10</td>\n",
       "      <td>4324693</td>\n",
       "      <td>71651007</td>\n",
       "      <td>32817</td>\n",
       "      <td>None</td>\n",
       "      <td>None</td>\n",
       "      <td>None</td>\n",
       "      <td>None</td>\n",
       "    </tr>\n",
       "    <tr>\n",
       "      <th>4</th>\n",
       "      <td>20704</td>\n",
       "      <td>None</td>\n",
       "      <td>pro-193832</td>\n",
       "      <td>None</td>\n",
       "      <td>None</td>\n",
       "      <td>413</td>\n",
       "      <td>4324693</td>\n",
       "      <td>2016-04-14</td>\n",
       "      <td>2016-04-14 03:09:15</td>\n",
       "      <td>4324693</td>\n",
       "      <td>71651007</td>\n",
       "      <td>32817</td>\n",
       "      <td>None</td>\n",
       "      <td>None</td>\n",
       "      <td>None</td>\n",
       "      <td>None</td>\n",
       "    </tr>\n",
       "  </tbody>\n",
       "</table>\n",
       "</div>"
      ],
      "text/plain": [
       "   procedure_occurrence_id fhir_identifier fhir_logical_id  \\\n",
       "0                    19543            None      pro-171732   \n",
       "1                    19524            None      pro-171987   \n",
       "2                    19683            None      pro-171665   \n",
       "3                    19705            None      pro-171917   \n",
       "4                    20704            None      pro-193832   \n",
       "\n",
       "  modifier_concept_id modifier_source_value  person_id  procedure_concept_id  \\\n",
       "0                None                  None        400               4324693   \n",
       "1                None                  None        400               4324693   \n",
       "2                None                  None        400               4324693   \n",
       "3                None                  None        400               4324693   \n",
       "4                None                  None        413               4324693   \n",
       "\n",
       "  procedure_date  procedure_datetime  procedure_source_concept_id  \\\n",
       "0     2021-02-09 2021-02-09 03:54:27                      4324693   \n",
       "1     2023-01-24 2023-01-24 13:14:57                      4324693   \n",
       "2     2020-02-26 2020-02-26 01:15:04                      4324693   \n",
       "3     2022-02-20 2022-02-20 13:25:10                      4324693   \n",
       "4     2016-04-14 2016-04-14 03:09:15                      4324693   \n",
       "\n",
       "  procedure_source_value  procedure_type_concept_id provider_id quantity  \\\n",
       "0               71651007                      32817        None     None   \n",
       "1               71651007                      32817        None     None   \n",
       "2               71651007                      32817        None     None   \n",
       "3               71651007                      32817        None     None   \n",
       "4               71651007                      32817        None     None   \n",
       "\n",
       "  visit_detail_id visit_occurrence_id  \n",
       "0            None                None  \n",
       "1            None                None  \n",
       "2            None                None  \n",
       "3            None                None  \n",
       "4            None                None  "
      ]
     },
     "execution_count": 124,
     "metadata": {},
     "output_type": "execute_result"
    }
   ],
   "source": [
    "omop_code = 4324693 #Code for Mammography. Please change this to the code that you are interested in.\n",
    "df = sqlio.read_sql_query(f\"SELECT * FROM cds_cdm.procedure_occurrence where procedure_concept_id={omop_code}\", conn)\n",
    "df.head()"
   ]
  },
  {
   "cell_type": "code",
   "execution_count": 120,
   "id": "31c46446-9997-4609-af07-892ef325745d",
   "metadata": {},
   "outputs": [],
   "source": [
    "df = sqlio.read_sql_query(f\"SELECT person_id, COUNT(person_id) AS count FROM cds_cdm.procedure_occurrence where procedure_concept_id={omop_code} GROUP BY person_id\", conn)\n"
   ]
  },
  {
   "cell_type": "markdown",
   "id": "39830818-0029-4370-a2c5-4d34d874acd5",
   "metadata": {},
   "source": [
    "#### Generate Kernel Density Estimate plot using Gaussian kernels.\n",
    "In statistics, kernel density estimation (KDE) is a non-parametric way\n",
    "to estimate the probability density function (PDF) of a random variable.\n",
    "This function uses Gaussian kernels and includes automatic bandwidth determination.\n",
    "The more this kernel is shifted to the right, the more longitudinal data we have.\n",
    "With this we can figure out if this particular disease vertical has longitudinal data\n"
   ]
  },
  {
   "cell_type": "code",
   "execution_count": 121,
   "id": "4cbc939a-59db-4bb5-925f-9642848f5f9f",
   "metadata": {},
   "outputs": [
    {
     "data": {
      "text/plain": [
       "<Axes: title={'center': 'KDE of count of visit per unique patient'}, ylabel='Density'>"
      ]
     },
     "execution_count": 121,
     "metadata": {},
     "output_type": "execute_result"
    },
    {
     "data": {
      "image/png": "[encoded data removed]",
      "text/plain": [
       "<Figure size 640x480 with 1 Axes>"
      ]
     },
     "metadata": {},
     "output_type": "display_data"
    }
   ],
   "source": [
    "df['count'].plot(title=\"KDE of count of visit per unique patient\",kind='kde') #Kernel Density estimate"
   ]
  },
  {
   "cell_type": "code",
   "execution_count": 122,
   "id": "eb974d87-694b-4f10-a56a-318ffda55d05",
   "metadata": {},
   "outputs": [
    {
     "data": {
      "text/plain": [
       "<Axes: title={'center': 'Number of visit per unique patient Histogram'}, ylabel='Frequency'>"
      ]
     },
     "execution_count": 122,
     "metadata": {},
     "output_type": "execute_result"
    },
    {
     "data": {
      "image/png": "[encoded data removed]",
      "text/plain": [
       "<Figure size 640x480 with 1 Axes>"
      ]
     },
     "metadata": {},
     "output_type": "display_data"
    }
   ],
   "source": [
    "df['count'].plot(kind='hist',title=\"Number of visit per unique patient Histogram\") #Histogram"
   ]
  }
 ],
 "metadata": {
  "kernelspec": {
   "display_name": "Python 3 (ipykernel)",
   "language": "python",
   "name": "python3"
  },
  "language_info": {
   "codemirror_mode": {
    "name": "ipython",
    "version": 3
   },
   "file_extension": ".py",
   "mimetype": "text/x-python",
   "name": "python",
   "nbconvert_exporter": "python",
   "pygments_lexer": "ipython3",
   "version": "3.10.11"
  }
 },
 "nbformat": 4,
 "nbformat_minor": 5
}
