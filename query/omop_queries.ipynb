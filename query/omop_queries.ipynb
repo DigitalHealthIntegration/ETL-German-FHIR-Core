{
 "cells": [
  {
   "cell_type": "markdown",
   "id": "ad98c696-d7a4-4925-b675-951c72c1b4a1",
   "metadata": {},
   "source": [
    "# OMOP Data Exploration and Analysis with PostgreSQL\n",
    "\n",
    "This jupyter notebook includes a example for querying and analyzing OMOP(Observational Medical Outcomes Partnership) data stored in a PostgreSQL database. The notebook covers essential steps, from establishing a connection to the database to executing SQL queries, and visualizing key insights.\n",
    "\n",
    "https://www.ohdsi.org/data-standardization/"
   ]
  },
  {
   "cell_type": "markdown",
   "id": "7827bc87-6ed0-4255-91af-fc6fb61d311e",
   "metadata": {},
   "source": [
    "### Importing required Libraries\n",
    "\n",
    "- **psycopg2** For establishing a connection between python and a PostgreSQL database.\n",
    "- **pandas** For efficient data handling, manipulation nad analysis of data.\n",
    "- **sqlio** For executing SQL queries and reading the results directly into pandas dataframe."
   ]
  },
  {
   "cell_type": "code",
   "execution_count": 1,
   "id": "458e5356-0d47-47d0-9682-e00e8dc36006",
   "metadata": {},
   "outputs": [],
   "source": [
    "import pandas as pd\n",
    "import pandas.io.sql as sqlio\n",
    "import psycopg2 as ps\n",
    "import warnings\n",
    "\n",
    "warnings.filterwarnings('ignore') #ignoring warning related to sqlio and sql alchemy. Will improve this."
   ]
  },
  {
   "cell_type": "markdown",
   "id": "87c660e4-44b3-4f43-95df-3eaa5d9ea293",
   "metadata": {},
   "source": [
    "### Database connection and setup\n",
    "\n",
    "Please change the username password to your OMOP DB."
   ]
  },
  {
   "cell_type": "code",
   "execution_count": 2,
   "id": "36d769d9-d723-4ecc-8797-cda84dd6cc11",
   "metadata": {},
   "outputs": [],
   "source": [
    "conn = ps.connect(dbname=\"ohdsi\",\n",
    "                   user = \"ohdsi_admin_user\",\n",
    "                   password = \"admin1\",\n",
    "                   host = \"omop-db-postgress\",\n",
    "                   port = \"5432\")"
   ]
  },
  {
   "cell_type": "markdown",
   "id": "b38fa84b-9574-49cf-b25c-a9f85eafbbeb",
   "metadata": {},
   "source": [
    "## Initial Analysis - Query Counts from OMOP DB\n",
    "### Number of Person"
   ]
  },
  {
   "cell_type": "code",
   "execution_count": 5,
   "id": "aa6c0f33-352b-44a7-9411-4c6b20e8afa8",
   "metadata": {},
   "outputs": [
    {
     "data": {
      "text/html": [
       "<div>\n",
       "<style scoped>\n",
       "    .dataframe tbody tr th:only-of-type {\n",
       "        vertical-align: middle;\n",
       "    }\n",
       "\n",
       "    .dataframe tbody tr th {\n",
       "        vertical-align: top;\n",
       "    }\n",
       "\n",
       "    .dataframe thead th {\n",
       "        text-align: right;\n",
       "    }\n",
       "</style>\n",
       "<table border=\"1\" class=\"dataframe\">\n",
       "  <thead>\n",
       "    <tr style=\"text-align: right;\">\n",
       "      <th></th>\n",
       "      <th>count</th>\n",
       "    </tr>\n",
       "  </thead>\n",
       "  <tbody>\n",
       "    <tr>\n",
       "      <th>0</th>\n",
       "      <td>0</td>\n",
       "    </tr>\n",
       "  </tbody>\n",
       "</table>\n",
       "</div>"
      ],
      "text/plain": [
       "   count\n",
       "0      0"
      ]
     },
     "execution_count": 5,
     "metadata": {},
     "output_type": "execute_result"
    }
   ],
   "source": [
    "df = sqlio.read_sql_query(\"SELECT COUNT(*) FROM cds_cdm.condition_occurrence\", conn)\n",
    "df.head(60)"
   ]
  },
  {
   "cell_type": "markdown",
   "id": "62e238fa-ea67-4e23-b785-e81c81c91a27",
   "metadata": {},
   "source": [
    "### Number of Observation"
   ]
  },
  {
   "cell_type": "code",
   "execution_count": 6,
   "id": "f61870f3-95ad-4edd-8663-5e1e3e76583d",
   "metadata": {},
   "outputs": [
    {
     "data": {
      "text/html": [
       "<div>\n",
       "<style scoped>\n",
       "    .dataframe tbody tr th:only-of-type {\n",
       "        vertical-align: middle;\n",
       "    }\n",
       "\n",
       "    .dataframe tbody tr th {\n",
       "        vertical-align: top;\n",
       "    }\n",
       "\n",
       "    .dataframe thead th {\n",
       "        text-align: right;\n",
       "    }\n",
       "</style>\n",
       "<table border=\"1\" class=\"dataframe\">\n",
       "  <thead>\n",
       "    <tr style=\"text-align: right;\">\n",
       "      <th></th>\n",
       "      <th>observation_id</th>\n",
       "      <th>person_id</th>\n",
       "      <th>observation_concept_id</th>\n",
       "      <th>observation_date</th>\n",
       "      <th>observation_datetime</th>\n",
       "      <th>observation_type_concept_id</th>\n",
       "      <th>value_as_number</th>\n",
       "      <th>value_as_string</th>\n",
       "      <th>value_as_concept_id</th>\n",
       "      <th>qualifier_concept_id</th>\n",
       "      <th>unit_concept_id</th>\n",
       "      <th>provider_id</th>\n",
       "      <th>visit_occurrence_id</th>\n",
       "      <th>visit_detail_id</th>\n",
       "      <th>observation_source_value</th>\n",
       "      <th>observation_source_concept_id</th>\n",
       "      <th>unit_source_value</th>\n",
       "      <th>qualifier_source_value</th>\n",
       "      <th>fhir_identifier</th>\n",
       "      <th>fhir_logical_id</th>\n",
       "    </tr>\n",
       "  </thead>\n",
       "  <tbody>\n",
       "    <tr>\n",
       "      <th>0</th>\n",
       "      <td>2</td>\n",
       "      <td>3</td>\n",
       "      <td>0</td>\n",
       "      <td>2023-11-27</td>\n",
       "      <td>2023-11-27 18:40:02</td>\n",
       "      <td>32883</td>\n",
       "      <td>NaN</td>\n",
       "      <td>IPRD.DE40</td>\n",
       "      <td>80000001.0</td>\n",
       "      <td>NaN</td>\n",
       "      <td>NaN</td>\n",
       "      <td>None</td>\n",
       "      <td>None</td>\n",
       "      <td>None</td>\n",
       "      <td>IPRD.DE39</td>\n",
       "      <td>70000077</td>\n",
       "      <td>None</td>\n",
       "      <td>None</td>\n",
       "      <td>None</td>\n",
       "      <td>obs-754207d5-f3e7-406d-b750-9acc8f9b71f4</td>\n",
       "    </tr>\n",
       "    <tr>\n",
       "      <th>1</th>\n",
       "      <td>11</td>\n",
       "      <td>5</td>\n",
       "      <td>0</td>\n",
       "      <td>2023-12-04</td>\n",
       "      <td>2023-12-04 12:46:29</td>\n",
       "      <td>32817</td>\n",
       "      <td>300.0</td>\n",
       "      <td>None</td>\n",
       "      <td>NaN</td>\n",
       "      <td>NaN</td>\n",
       "      <td>NaN</td>\n",
       "      <td>None</td>\n",
       "      <td>None</td>\n",
       "      <td>None</td>\n",
       "      <td>ANC.B8.DE19</td>\n",
       "      <td>60000003</td>\n",
       "      <td>None</td>\n",
       "      <td>None</td>\n",
       "      <td>None</td>\n",
       "      <td>obs-77df47d1-e636-436d-8566-dd250f3dc67c</td>\n",
       "    </tr>\n",
       "    <tr>\n",
       "      <th>2</th>\n",
       "      <td>15</td>\n",
       "      <td>7</td>\n",
       "      <td>0</td>\n",
       "      <td>2023-12-06</td>\n",
       "      <td>2023-12-06 13:54:09</td>\n",
       "      <td>32817</td>\n",
       "      <td>NaN</td>\n",
       "      <td>ANC.B9.DE27</td>\n",
       "      <td>0.0</td>\n",
       "      <td>NaN</td>\n",
       "      <td>NaN</td>\n",
       "      <td>None</td>\n",
       "      <td>None</td>\n",
       "      <td>None</td>\n",
       "      <td>ANC.B9.DE24</td>\n",
       "      <td>60000007</td>\n",
       "      <td>None</td>\n",
       "      <td>None</td>\n",
       "      <td>None</td>\n",
       "      <td>obs-ea525104-beb8-48e6-af60-a113a2e7a42f</td>\n",
       "    </tr>\n",
       "    <tr>\n",
       "      <th>3</th>\n",
       "      <td>19</td>\n",
       "      <td>9</td>\n",
       "      <td>0</td>\n",
       "      <td>2024-01-08</td>\n",
       "      <td>2024-01-08 19:26:49</td>\n",
       "      <td>32817</td>\n",
       "      <td>NaN</td>\n",
       "      <td>IPRD.DE192</td>\n",
       "      <td>80000018.0</td>\n",
       "      <td>NaN</td>\n",
       "      <td>NaN</td>\n",
       "      <td>None</td>\n",
       "      <td>None</td>\n",
       "      <td>None</td>\n",
       "      <td>IPRD.DE188</td>\n",
       "      <td>70000082</td>\n",
       "      <td>None</td>\n",
       "      <td>None</td>\n",
       "      <td>None</td>\n",
       "      <td>obs-a48365ad-aba6-4db3-8469-10907905ff20</td>\n",
       "    </tr>\n",
       "    <tr>\n",
       "      <th>4</th>\n",
       "      <td>20</td>\n",
       "      <td>13</td>\n",
       "      <td>0</td>\n",
       "      <td>2024-01-10</td>\n",
       "      <td>2024-01-10 16:05:15</td>\n",
       "      <td>32883</td>\n",
       "      <td>NaN</td>\n",
       "      <td>IPRD.DE117</td>\n",
       "      <td>80000019.0</td>\n",
       "      <td>NaN</td>\n",
       "      <td>NaN</td>\n",
       "      <td>None</td>\n",
       "      <td>None</td>\n",
       "      <td>None</td>\n",
       "      <td>IPRD.DE116</td>\n",
       "      <td>70000054</td>\n",
       "      <td>None</td>\n",
       "      <td>None</td>\n",
       "      <td>None</td>\n",
       "      <td>obs-7dca0c24-7864-46d5-affb-694508cf0564</td>\n",
       "    </tr>\n",
       "    <tr>\n",
       "      <th>...</th>\n",
       "      <td>...</td>\n",
       "      <td>...</td>\n",
       "      <td>...</td>\n",
       "      <td>...</td>\n",
       "      <td>...</td>\n",
       "      <td>...</td>\n",
       "      <td>...</td>\n",
       "      <td>...</td>\n",
       "      <td>...</td>\n",
       "      <td>...</td>\n",
       "      <td>...</td>\n",
       "      <td>...</td>\n",
       "      <td>...</td>\n",
       "      <td>...</td>\n",
       "      <td>...</td>\n",
       "      <td>...</td>\n",
       "      <td>...</td>\n",
       "      <td>...</td>\n",
       "      <td>...</td>\n",
       "      <td>...</td>\n",
       "    </tr>\n",
       "    <tr>\n",
       "      <th>95</th>\n",
       "      <td>180</td>\n",
       "      <td>30</td>\n",
       "      <td>0</td>\n",
       "      <td>2024-01-31</td>\n",
       "      <td>2024-01-31 18:21:09</td>\n",
       "      <td>32817</td>\n",
       "      <td>NaN</td>\n",
       "      <td>ANC.B7.DE.99</td>\n",
       "      <td>80000056.0</td>\n",
       "      <td>NaN</td>\n",
       "      <td>NaN</td>\n",
       "      <td>None</td>\n",
       "      <td>None</td>\n",
       "      <td>None</td>\n",
       "      <td>ANC-B7-DE98</td>\n",
       "      <td>70000034</td>\n",
       "      <td>None</td>\n",
       "      <td>None</td>\n",
       "      <td>None</td>\n",
       "      <td>obs-4c737c63-8fd3-45b1-a412-7ffd784033b0</td>\n",
       "    </tr>\n",
       "    <tr>\n",
       "      <th>96</th>\n",
       "      <td>181</td>\n",
       "      <td>30</td>\n",
       "      <td>0</td>\n",
       "      <td>2024-01-31</td>\n",
       "      <td>2024-01-31 18:30:29</td>\n",
       "      <td>32817</td>\n",
       "      <td>NaN</td>\n",
       "      <td>ANC.B7.DE.99</td>\n",
       "      <td>80000056.0</td>\n",
       "      <td>NaN</td>\n",
       "      <td>NaN</td>\n",
       "      <td>None</td>\n",
       "      <td>None</td>\n",
       "      <td>None</td>\n",
       "      <td>ANC-B7-DE98</td>\n",
       "      <td>70000034</td>\n",
       "      <td>None</td>\n",
       "      <td>None</td>\n",
       "      <td>None</td>\n",
       "      <td>obs-9bdc5302-e54f-4e5c-8768-609e9110f67f</td>\n",
       "    </tr>\n",
       "    <tr>\n",
       "      <th>97</th>\n",
       "      <td>184</td>\n",
       "      <td>18</td>\n",
       "      <td>0</td>\n",
       "      <td>2024-02-06</td>\n",
       "      <td>2024-02-06 12:05:31</td>\n",
       "      <td>32817</td>\n",
       "      <td>NaN</td>\n",
       "      <td>IPRD.DE91</td>\n",
       "      <td>80000031.0</td>\n",
       "      <td>NaN</td>\n",
       "      <td>NaN</td>\n",
       "      <td>None</td>\n",
       "      <td>None</td>\n",
       "      <td>None</td>\n",
       "      <td>IPRD.DE155</td>\n",
       "      <td>70000051</td>\n",
       "      <td>None</td>\n",
       "      <td>None</td>\n",
       "      <td>None</td>\n",
       "      <td>obs-877fd669-a082-4606-a94d-5c1aec7ffdf4</td>\n",
       "    </tr>\n",
       "    <tr>\n",
       "      <th>98</th>\n",
       "      <td>186</td>\n",
       "      <td>1</td>\n",
       "      <td>0</td>\n",
       "      <td>2018-02-14</td>\n",
       "      <td>2018-02-14 12:30:00</td>\n",
       "      <td>32856</td>\n",
       "      <td>148.0</td>\n",
       "      <td>None</td>\n",
       "      <td>NaN</td>\n",
       "      <td>4267416.0</td>\n",
       "      <td>8848.0</td>\n",
       "      <td>None</td>\n",
       "      <td>None</td>\n",
       "      <td>None</td>\n",
       "      <td>777-3</td>\n",
       "      <td>0</td>\n",
       "      <td>10*3/uL</td>\n",
       "      <td>L</td>\n",
       "      <td>obs-id-017d8dc1aaad9b53</td>\n",
       "      <td>obs-112a6e5d-12d6-402d-8956-8ae082964c4f</td>\n",
       "    </tr>\n",
       "    <tr>\n",
       "      <th>99</th>\n",
       "      <td>189</td>\n",
       "      <td>31</td>\n",
       "      <td>0</td>\n",
       "      <td>2024-02-12</td>\n",
       "      <td>2024-02-12 12:14:42</td>\n",
       "      <td>32817</td>\n",
       "      <td>69.0</td>\n",
       "      <td>None</td>\n",
       "      <td>NaN</td>\n",
       "      <td>NaN</td>\n",
       "      <td>NaN</td>\n",
       "      <td>None</td>\n",
       "      <td>None</td>\n",
       "      <td>None</td>\n",
       "      <td>ANC.B8.DE3</td>\n",
       "      <td>60000004</td>\n",
       "      <td>None</td>\n",
       "      <td>None</td>\n",
       "      <td>None</td>\n",
       "      <td>obs-69dfc71d-fb7f-4ebd-add3-18c8b343383f</td>\n",
       "    </tr>\n",
       "  </tbody>\n",
       "</table>\n",
       "<p>100 rows × 20 columns</p>\n",
       "</div>"
      ],
      "text/plain": [
       "    observation_id  person_id  observation_concept_id observation_date  \\\n",
       "0                2          3                       0       2023-11-27   \n",
       "1               11          5                       0       2023-12-04   \n",
       "2               15          7                       0       2023-12-06   \n",
       "3               19          9                       0       2024-01-08   \n",
       "4               20         13                       0       2024-01-10   \n",
       "..             ...        ...                     ...              ...   \n",
       "95             180         30                       0       2024-01-31   \n",
       "96             181         30                       0       2024-01-31   \n",
       "97             184         18                       0       2024-02-06   \n",
       "98             186          1                       0       2018-02-14   \n",
       "99             189         31                       0       2024-02-12   \n",
       "\n",
       "   observation_datetime  observation_type_concept_id  value_as_number  \\\n",
       "0   2023-11-27 18:40:02                        32883              NaN   \n",
       "1   2023-12-04 12:46:29                        32817            300.0   \n",
       "2   2023-12-06 13:54:09                        32817              NaN   \n",
       "3   2024-01-08 19:26:49                        32817              NaN   \n",
       "4   2024-01-10 16:05:15                        32883              NaN   \n",
       "..                  ...                          ...              ...   \n",
       "95  2024-01-31 18:21:09                        32817              NaN   \n",
       "96  2024-01-31 18:30:29                        32817              NaN   \n",
       "97  2024-02-06 12:05:31                        32817              NaN   \n",
       "98  2018-02-14 12:30:00                        32856            148.0   \n",
       "99  2024-02-12 12:14:42                        32817             69.0   \n",
       "\n",
       "   value_as_string  value_as_concept_id  qualifier_concept_id  \\\n",
       "0        IPRD.DE40           80000001.0                   NaN   \n",
       "1             None                  NaN                   NaN   \n",
       "2      ANC.B9.DE27                  0.0                   NaN   \n",
       "3       IPRD.DE192           80000018.0                   NaN   \n",
       "4       IPRD.DE117           80000019.0                   NaN   \n",
       "..             ...                  ...                   ...   \n",
       "95    ANC.B7.DE.99           80000056.0                   NaN   \n",
       "96    ANC.B7.DE.99           80000056.0                   NaN   \n",
       "97       IPRD.DE91           80000031.0                   NaN   \n",
       "98            None                  NaN             4267416.0   \n",
       "99            None                  NaN                   NaN   \n",
       "\n",
       "    unit_concept_id provider_id visit_occurrence_id visit_detail_id  \\\n",
       "0               NaN        None                None            None   \n",
       "1               NaN        None                None            None   \n",
       "2               NaN        None                None            None   \n",
       "3               NaN        None                None            None   \n",
       "4               NaN        None                None            None   \n",
       "..              ...         ...                 ...             ...   \n",
       "95              NaN        None                None            None   \n",
       "96              NaN        None                None            None   \n",
       "97              NaN        None                None            None   \n",
       "98           8848.0        None                None            None   \n",
       "99              NaN        None                None            None   \n",
       "\n",
       "   observation_source_value  observation_source_concept_id unit_source_value  \\\n",
       "0                 IPRD.DE39                       70000077              None   \n",
       "1               ANC.B8.DE19                       60000003              None   \n",
       "2               ANC.B9.DE24                       60000007              None   \n",
       "3                IPRD.DE188                       70000082              None   \n",
       "4                IPRD.DE116                       70000054              None   \n",
       "..                      ...                            ...               ...   \n",
       "95              ANC-B7-DE98                       70000034              None   \n",
       "96              ANC-B7-DE98                       70000034              None   \n",
       "97               IPRD.DE155                       70000051              None   \n",
       "98                    777-3                              0           10*3/uL   \n",
       "99               ANC.B8.DE3                       60000004              None   \n",
       "\n",
       "   qualifier_source_value          fhir_identifier  \\\n",
       "0                    None                     None   \n",
       "1                    None                     None   \n",
       "2                    None                     None   \n",
       "3                    None                     None   \n",
       "4                    None                     None   \n",
       "..                    ...                      ...   \n",
       "95                   None                     None   \n",
       "96                   None                     None   \n",
       "97                   None                     None   \n",
       "98                      L  obs-id-017d8dc1aaad9b53   \n",
       "99                   None                     None   \n",
       "\n",
       "                             fhir_logical_id  \n",
       "0   obs-754207d5-f3e7-406d-b750-9acc8f9b71f4  \n",
       "1   obs-77df47d1-e636-436d-8566-dd250f3dc67c  \n",
       "2   obs-ea525104-beb8-48e6-af60-a113a2e7a42f  \n",
       "3   obs-a48365ad-aba6-4db3-8469-10907905ff20  \n",
       "4   obs-7dca0c24-7864-46d5-affb-694508cf0564  \n",
       "..                                       ...  \n",
       "95  obs-4c737c63-8fd3-45b1-a412-7ffd784033b0  \n",
       "96  obs-9bdc5302-e54f-4e5c-8768-609e9110f67f  \n",
       "97  obs-877fd669-a082-4606-a94d-5c1aec7ffdf4  \n",
       "98  obs-112a6e5d-12d6-402d-8956-8ae082964c4f  \n",
       "99  obs-69dfc71d-fb7f-4ebd-add3-18c8b343383f  \n",
       "\n",
       "[100 rows x 20 columns]"
      ]
     },
     "execution_count": 6,
     "metadata": {},
     "output_type": "execute_result"
    }
   ],
   "source": [
    "df = sqlio.read_sql_query(\"SELECT * FROM cds_cdm.observation\", conn)\n",
    "df.head(100)"
   ]
  },
  {
   "cell_type": "markdown",
   "id": "bb52945d-337c-4d3e-b18e-c14728768f9a",
   "metadata": {},
   "source": [
    "### Number of Death"
   ]
  },
  {
   "cell_type": "code",
   "execution_count": 9,
   "id": "dcf1bb32-07e0-4578-8467-44384e8bdd1c",
   "metadata": {},
   "outputs": [
    {
     "data": {
      "text/html": [
       "<div>\n",
       "<style scoped>\n",
       "    .dataframe tbody tr th:only-of-type {\n",
       "        vertical-align: middle;\n",
       "    }\n",
       "\n",
       "    .dataframe tbody tr th {\n",
       "        vertical-align: top;\n",
       "    }\n",
       "\n",
       "    .dataframe thead th {\n",
       "        text-align: right;\n",
       "    }\n",
       "</style>\n",
       "<table border=\"1\" class=\"dataframe\">\n",
       "  <thead>\n",
       "    <tr style=\"text-align: right;\">\n",
       "      <th></th>\n",
       "      <th>count</th>\n",
       "    </tr>\n",
       "  </thead>\n",
       "  <tbody>\n",
       "    <tr>\n",
       "      <th>0</th>\n",
       "      <td>2</td>\n",
       "    </tr>\n",
       "  </tbody>\n",
       "</table>\n",
       "</div>"
      ],
      "text/plain": [
       "   count\n",
       "0      2"
      ]
     },
     "execution_count": 9,
     "metadata": {},
     "output_type": "execute_result"
    }
   ],
   "source": [
    "df = sqlio.read_sql_query(\"SELECT COUNT(*) FROM cds_cdm.death\", conn)\n",
    "df.head()"
   ]
  },
  {
   "cell_type": "markdown",
   "id": "da096dc8-72f9-4609-a5b9-e3429cc103c5",
   "metadata": {
    "jp-MarkdownHeadingCollapsed": true
   },
   "source": [
    "### Number of Procedure"
   ]
  },
  {
   "cell_type": "markdown",
   "id": "c16e0af4-1ddf-48f4-9834-94e21700e14a",
   "metadata": {},
   "source": [
    "### Number of measurements eg: Height, Weight etc."
   ]
  },
  {
   "cell_type": "code",
   "execution_count": 10,
   "id": "ec2cae46-d2d3-4931-9d75-1e384d3415ab",
   "metadata": {},
   "outputs": [
    {
     "data": {
      "text/html": [
       "<div>\n",
       "<style scoped>\n",
       "    .dataframe tbody tr th:only-of-type {\n",
       "        vertical-align: middle;\n",
       "    }\n",
       "\n",
       "    .dataframe tbody tr th {\n",
       "        vertical-align: top;\n",
       "    }\n",
       "\n",
       "    .dataframe thead th {\n",
       "        text-align: right;\n",
       "    }\n",
       "</style>\n",
       "<table border=\"1\" class=\"dataframe\">\n",
       "  <thead>\n",
       "    <tr style=\"text-align: right;\">\n",
       "      <th></th>\n",
       "      <th>count</th>\n",
       "    </tr>\n",
       "  </thead>\n",
       "  <tbody>\n",
       "    <tr>\n",
       "      <th>0</th>\n",
       "      <td>13</td>\n",
       "    </tr>\n",
       "  </tbody>\n",
       "</table>\n",
       "</div>"
      ],
      "text/plain": [
       "   count\n",
       "0     13"
      ]
     },
     "execution_count": 10,
     "metadata": {},
     "output_type": "execute_result"
    }
   ],
   "source": [
    "df = sqlio.read_sql_query(\"SELECT COUNT(*) FROM cds_cdm.procedure_occurrence\", conn)\n",
    "df.head()"
   ]
  },
  {
   "cell_type": "code",
   "execution_count": 1,
   "id": "67093252-52ce-4db5-8bdb-2ba41e934f8b",
   "metadata": {},
   "outputs": [
    {
     "ename": "NameError",
     "evalue": "name 'sqlio' is not defined",
     "output_type": "error",
     "traceback": [
      "\u001b[0;31m---------------------------------------------------------------------------\u001b[0m",
      "\u001b[0;31mNameError\u001b[0m                                 Traceback (most recent call last)",
      "Cell \u001b[0;32mIn[1], line 2\u001b[0m\n\u001b[1;32m      1\u001b[0m \u001b[38;5;66;03m#Number of Concepts\u001b[39;00m\n\u001b[0;32m----> 2\u001b[0m df \u001b[38;5;241m=\u001b[39m \u001b[43msqlio\u001b[49m\u001b[38;5;241m.\u001b[39mread_sql_query(\u001b[38;5;124m\"\u001b[39m\u001b[38;5;124mSELECT * FROM cds_cdm.concept\u001b[39m\u001b[38;5;124m\"\u001b[39m, conn)\n\u001b[1;32m      3\u001b[0m df\u001b[38;5;241m.\u001b[39mhead(\u001b[38;5;241m10\u001b[39m)\n",
      "\u001b[0;31mNameError\u001b[0m: name 'sqlio' is not defined"
     ]
    }
   ],
   "source": [
    "#Number of Concepts\n",
    "df = sqlio.read_sql_query(\"SELECT * FROM cds_cdm.concept\", conn)\n",
    "df.head(10)"
   ]
  },
  {
   "cell_type": "raw",
   "id": "1c89aa9f-89b0-4811-bf5c-8adb8721c2cf",
   "metadata": {},
   "source": [
    "df = sqlio.read_sql_query(\"SELECT * FROM cds_cdm.measurement\", conn)\n",
    "df.head()"
   ]
  },
  {
   "cell_type": "markdown",
   "id": "1688363e-a733-45d9-ad8f-b893096ef2c1",
   "metadata": {},
   "source": [
    "### Describe Height meaurements"
   ]
  },
  {
   "cell_type": "code",
   "execution_count": 9,
   "id": "8e8b3b1f-483a-435e-bfb6-42ad4bb72e67",
   "metadata": {},
   "outputs": [
    {
     "data": {
      "text/plain": [
       "count       0\n",
       "unique      0\n",
       "top       NaN\n",
       "freq      NaN\n",
       "Name: value_as_number, dtype: object"
      ]
     },
     "execution_count": 9,
     "metadata": {},
     "output_type": "execute_result"
    }
   ],
   "source": [
    "df = sqlio.read_sql_query(\"SELECT * FROM cds_cdm.measurement where measurement_source_concept_id=3036277\", conn)\n",
    "df[\"value_as_number\"].describe()"
   ]
  },
  {
   "cell_type": "markdown",
   "id": "4439f8c3-b7f6-4d29-8d1e-0a0a2faa37c3",
   "metadata": {},
   "source": [
    "## Encounter visit longitudinal Analysis"
   ]
  },
  {
   "cell_type": "code",
   "execution_count": 10,
   "id": "d4013a2a-434e-4aa0-97e7-2cb33c6584b1",
   "metadata": {},
   "outputs": [
    {
     "data": {
      "text/html": [
       "<div>\n",
       "<style scoped>\n",
       "    .dataframe tbody tr th:only-of-type {\n",
       "        vertical-align: middle;\n",
       "    }\n",
       "\n",
       "    .dataframe tbody tr th {\n",
       "        vertical-align: top;\n",
       "    }\n",
       "\n",
       "    .dataframe thead th {\n",
       "        text-align: right;\n",
       "    }\n",
       "</style>\n",
       "<table border=\"1\" class=\"dataframe\">\n",
       "  <thead>\n",
       "    <tr style=\"text-align: right;\">\n",
       "      <th></th>\n",
       "      <th>visit_occurrence_id</th>\n",
       "      <th>person_id</th>\n",
       "      <th>visit_concept_id</th>\n",
       "      <th>visit_start_date</th>\n",
       "      <th>visit_start_datetime</th>\n",
       "      <th>visit_end_date</th>\n",
       "      <th>visit_end_datetime</th>\n",
       "      <th>visit_type_concept_id</th>\n",
       "      <th>provider_id</th>\n",
       "      <th>care_site_id</th>\n",
       "      <th>visit_source_value</th>\n",
       "      <th>visit_source_concept_id</th>\n",
       "      <th>admitting_source_concept_id</th>\n",
       "      <th>admitting_source_value</th>\n",
       "      <th>discharge_to_concept_id</th>\n",
       "      <th>discharge_to_source_value</th>\n",
       "      <th>preceding_visit_occurrence_id</th>\n",
       "      <th>fhir_identifier</th>\n",
       "      <th>fhir_logical_id</th>\n",
       "    </tr>\n",
       "  </thead>\n",
       "  <tbody>\n",
       "  </tbody>\n",
       "</table>\n",
       "</div>"
      ],
      "text/plain": [
       "Empty DataFrame\n",
       "Columns: [visit_occurrence_id, person_id, visit_concept_id, visit_start_date, visit_start_datetime, visit_end_date, visit_end_datetime, visit_type_concept_id, provider_id, care_site_id, visit_source_value, visit_source_concept_id, admitting_source_concept_id, admitting_source_value, discharge_to_concept_id, discharge_to_source_value, preceding_visit_occurrence_id, fhir_identifier, fhir_logical_id]\n",
       "Index: []"
      ]
     },
     "execution_count": 10,
     "metadata": {},
     "output_type": "execute_result"
    }
   ],
   "source": [
    "df = sqlio.read_sql_query(f\"SELECT * FROM cds_cdm.visit_occurrence\", conn)\n",
    "df.head()"
   ]
  },
  {
   "cell_type": "code",
   "execution_count": 11,
   "id": "141269bd-ecc9-4beb-9650-b2baa82e690e",
   "metadata": {},
   "outputs": [
    {
     "data": {
      "text/plain": [
       "count       0\n",
       "unique      0\n",
       "top       NaN\n",
       "freq      NaN\n",
       "Name: count, dtype: object"
      ]
     },
     "execution_count": 11,
     "metadata": {},
     "output_type": "execute_result"
    }
   ],
   "source": [
    "df = sqlio.read_sql_query(f\"SELECT person_id, COUNT(person_id) AS count FROM cds_cdm.visit_occurrence GROUP BY person_id\", conn)\n",
    "df[\"count\"].describe()"
   ]
  },
  {
   "cell_type": "markdown",
   "id": "38027ac4-1761-4947-a70b-8f3dd08617cc",
   "metadata": {},
   "source": [
    "### What has the person with max number of visits come for?"
   ]
  },
  {
   "cell_type": "code",
   "execution_count": 12,
   "id": "3a09940c-9f62-4ec6-bf70-9172dcb73a28",
   "metadata": {},
   "outputs": [
    {
     "ename": "ValueError",
     "evalue": "can only convert an array of size 1 to a Python scalar",
     "output_type": "error",
     "traceback": [
      "\u001b[0;31m---------------------------------------------------------------------------\u001b[0m",
      "\u001b[0;31mValueError\u001b[0m                                Traceback (most recent call last)",
      "Cell \u001b[0;32mIn[12], line 2\u001b[0m\n\u001b[1;32m      1\u001b[0m max_count \u001b[38;5;241m=\u001b[39m df[\u001b[38;5;124m\"\u001b[39m\u001b[38;5;124mcount\u001b[39m\u001b[38;5;124m\"\u001b[39m]\u001b[38;5;241m.\u001b[39mdescribe()\u001b[38;5;241m.\u001b[39mmax() \n\u001b[0;32m----> 2\u001b[0m person_id_max_visit \u001b[38;5;241m=\u001b[39m \u001b[43mdf\u001b[49m\u001b[38;5;241;43m.\u001b[39;49m\u001b[43mloc\u001b[49m\u001b[43m[\u001b[49m\u001b[43mdf\u001b[49m\u001b[43m[\u001b[49m\u001b[38;5;124;43m'\u001b[39;49m\u001b[38;5;124;43mcount\u001b[39;49m\u001b[38;5;124;43m'\u001b[39;49m\u001b[43m]\u001b[49m\u001b[43m \u001b[49m\u001b[38;5;241;43m==\u001b[39;49m\u001b[43m \u001b[49m\u001b[43mmax_count\u001b[49m\u001b[43m]\u001b[49m\u001b[43m[\u001b[49m\u001b[38;5;124;43m\"\u001b[39;49m\u001b[38;5;124;43mperson_id\u001b[39;49m\u001b[38;5;124;43m\"\u001b[39;49m\u001b[43m]\u001b[49m\u001b[38;5;241;43m.\u001b[39;49m\u001b[43mitem\u001b[49m\u001b[43m(\u001b[49m\u001b[43m)\u001b[49m\n\u001b[1;32m      3\u001b[0m \u001b[38;5;28mprint\u001b[39m(person_id_max_visit)\n\u001b[1;32m      4\u001b[0m df_new \u001b[38;5;241m=\u001b[39m sqlio\u001b[38;5;241m.\u001b[39mread_sql_query(\u001b[38;5;124mf\u001b[39m\u001b[38;5;124m\"\u001b[39m\u001b[38;5;124mSELECT * FROM cds_cdm.procedure_occurrence where person_id=\u001b[39m\u001b[38;5;132;01m{\u001b[39;00mperson_id_max_visit\u001b[38;5;132;01m}\u001b[39;00m\u001b[38;5;124m\"\u001b[39m, conn)\n",
      "File \u001b[0;32m/opt/conda/lib/python3.10/site-packages/pandas/core/base.py:418\u001b[0m, in \u001b[0;36mIndexOpsMixin.item\u001b[0;34m(self)\u001b[0m\n\u001b[1;32m    416\u001b[0m \u001b[38;5;28;01mif\u001b[39;00m \u001b[38;5;28mlen\u001b[39m(\u001b[38;5;28mself\u001b[39m) \u001b[38;5;241m==\u001b[39m \u001b[38;5;241m1\u001b[39m:\n\u001b[1;32m    417\u001b[0m     \u001b[38;5;28;01mreturn\u001b[39;00m \u001b[38;5;28mnext\u001b[39m(\u001b[38;5;28miter\u001b[39m(\u001b[38;5;28mself\u001b[39m))\n\u001b[0;32m--> 418\u001b[0m \u001b[38;5;28;01mraise\u001b[39;00m \u001b[38;5;167;01mValueError\u001b[39;00m(\u001b[38;5;124m\"\u001b[39m\u001b[38;5;124mcan only convert an array of size 1 to a Python scalar\u001b[39m\u001b[38;5;124m\"\u001b[39m)\n",
      "\u001b[0;31mValueError\u001b[0m: can only convert an array of size 1 to a Python scalar"
     ]
    }
   ],
   "source": [
    "max_count = df[\"count\"].describe().max() \n",
    "person_id_max_visit = df.loc[df['count'] == max_count][\"person_id\"].item()\n",
    "print(person_id_max_visit)\n",
    "df_new = sqlio.read_sql_query(f\"SELECT * FROM cds_cdm.procedure_occurrence where person_id={person_id_max_visit}\", conn)\n",
    "procedure_concept_id = df_new['procedure_concept_id'].iat[0]\n",
    "procedure_reason = sqlio.read_sql_query(f\"SELECT * FROM cds_cdm.concept where concept_id={procedure_concept_id}\", conn)\n",
    "print(procedure_reason)"
   ]
  },
  {
   "cell_type": "markdown",
   "id": "11187c94-9507-4f5f-ae74-28e712c9016c",
   "metadata": {},
   "source": [
    "## Procedure specific longitudinal Analysis"
   ]
  },
  {
   "cell_type": "markdown",
   "id": "eada99aa-28d6-4f4c-8c9e-90245ec87f3b",
   "metadata": {},
   "source": [
    "### Enter OMOP code for a procedure eg: Mammography for breast cancer\n",
    "#### Search example\n",
    "https://athena.ohdsi.org/search-terms/terms?conceptClass=Procedure&page=1&pageSize=15&query=Mammography&boosts "
   ]
  },
  {
   "cell_type": "code",
   "execution_count": 12,
   "id": "c6992060-9669-4088-ac23-35f285eddc1f",
   "metadata": {},
   "outputs": [
    {
     "data": {
      "text/html": [
       "<div>\n",
       "<style scoped>\n",
       "    .dataframe tbody tr th:only-of-type {\n",
       "        vertical-align: middle;\n",
       "    }\n",
       "\n",
       "    .dataframe tbody tr th {\n",
       "        vertical-align: top;\n",
       "    }\n",
       "\n",
       "    .dataframe thead th {\n",
       "        text-align: right;\n",
       "    }\n",
       "</style>\n",
       "<table border=\"1\" class=\"dataframe\">\n",
       "  <thead>\n",
       "    <tr style=\"text-align: right;\">\n",
       "      <th></th>\n",
       "      <th>procedure_occurrence_id</th>\n",
       "      <th>person_id</th>\n",
       "      <th>procedure_concept_id</th>\n",
       "      <th>procedure_date</th>\n",
       "      <th>procedure_datetime</th>\n",
       "      <th>procedure_type_concept_id</th>\n",
       "      <th>modifier_concept_id</th>\n",
       "      <th>quantity</th>\n",
       "      <th>provider_id</th>\n",
       "      <th>visit_occurrence_id</th>\n",
       "      <th>visit_detail_id</th>\n",
       "      <th>procedure_source_value</th>\n",
       "      <th>procedure_source_concept_id</th>\n",
       "      <th>modifier_source_value</th>\n",
       "      <th>fhir_identifier</th>\n",
       "      <th>fhir_logical_id</th>\n",
       "    </tr>\n",
       "  </thead>\n",
       "  <tbody>\n",
       "  </tbody>\n",
       "</table>\n",
       "</div>"
      ],
      "text/plain": [
       "Empty DataFrame\n",
       "Columns: [procedure_occurrence_id, person_id, procedure_concept_id, procedure_date, procedure_datetime, procedure_type_concept_id, modifier_concept_id, quantity, provider_id, visit_occurrence_id, visit_detail_id, procedure_source_value, procedure_source_concept_id, modifier_source_value, fhir_identifier, fhir_logical_id]\n",
       "Index: []"
      ]
     },
     "execution_count": 12,
     "metadata": {},
     "output_type": "execute_result"
    }
   ],
   "source": [
    "omop_code = 4324693 #Code for Mammography. Please change this to the code that you are interested in.\n",
    "df = sqlio.read_sql_query(f\"SELECT * FROM cds_cdm.procedure_occurrence where procedure_concept_id={omop_code}\", conn)\n",
    "df.head()"
   ]
  },
  {
   "cell_type": "code",
   "execution_count": 13,
   "id": "31c46446-9997-4609-af07-892ef325745d",
   "metadata": {},
   "outputs": [
    {
     "data": {
      "text/html": [
       "<div>\n",
       "<style scoped>\n",
       "    .dataframe tbody tr th:only-of-type {\n",
       "        vertical-align: middle;\n",
       "    }\n",
       "\n",
       "    .dataframe tbody tr th {\n",
       "        vertical-align: top;\n",
       "    }\n",
       "\n",
       "    .dataframe thead th {\n",
       "        text-align: right;\n",
       "    }\n",
       "</style>\n",
       "<table border=\"1\" class=\"dataframe\">\n",
       "  <thead>\n",
       "    <tr style=\"text-align: right;\">\n",
       "      <th></th>\n",
       "      <th>person_id</th>\n",
       "      <th>count</th>\n",
       "    </tr>\n",
       "  </thead>\n",
       "  <tbody>\n",
       "  </tbody>\n",
       "</table>\n",
       "</div>"
      ],
      "text/plain": [
       "Empty DataFrame\n",
       "Columns: [person_id, count]\n",
       "Index: []"
      ]
     },
     "execution_count": 13,
     "metadata": {},
     "output_type": "execute_result"
    }
   ],
   "source": [
    "df = sqlio.read_sql_query(f\"SELECT person_id, COUNT(person_id) AS count FROM cds_cdm.procedure_occurrence where procedure_concept_id={omop_code} GROUP BY person_id\", conn)\n",
    "df"
   ]
  }
 ],
 "metadata": {
  "kernelspec": {
   "display_name": "Python 3 (ipykernel)",
   "language": "python",
   "name": "python3"
  },
  "language_info": {
   "codemirror_mode": {
    "name": "ipython",
    "version": 3
   },
   "file_extension": ".py",
   "mimetype": "text/x-python",
   "name": "python",
   "nbconvert_exporter": "python",
   "pygments_lexer": "ipython3",
   "version": "3.10.11"
  }
 },
 "nbformat": 4,
 "nbformat_minor": 5
}
