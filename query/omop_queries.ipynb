{
 "cells": [
  {
   "cell_type": "markdown",
   "id": "ad98c696-d7a4-4925-b675-951c72c1b4a1",
   "metadata": {},
   "source": [
    "# OMOP Data Exploration and Analysis with PostgreSQL\n",
    "\n",
    "This jupyter notebook includes a example for querying and analyzing OMOP(Observational Medical Outcomes Partnership) data stored in a PostgreSQL database. The notebook covers essential steps, from establishing a connection to the database to executing SQL queries, and visualizing key insights."
   ]
  },
  {
   "cell_type": "markdown",
   "id": "7827bc87-6ed0-4255-91af-fc6fb61d311e",
   "metadata": {},
   "source": [
    "### Importing required Libraries\n",
    "\n",
    "- **psycopg2** For establishing a connection between python and a PostgreSQL database.\n",
    "- **pandas** For efficient data handling, manipulation nad analysis of data.\n",
    "- **sqlio** For executing SQL queries and reading the results directly into pandas dataframe."
   ]
  },
  {
   "cell_type": "code",
   "execution_count": 1,
   "id": "458e5356-0d47-47d0-9682-e00e8dc36006",
   "metadata": {},
   "outputs": [],
   "source": [
    "import pandas as pd\n",
    "import pandas.io.sql as sqlio\n",
    "import psycopg2 as ps"
   ]
  },
  {
   "cell_type": "markdown",
   "id": "87c660e4-44b3-4f43-95df-3eaa5d9ea293",
   "metadata": {},
   "source": [
    "### Database connection and setup"
   ]
  },
  {
   "cell_type": "code",
   "execution_count": 2,
   "id": "36d769d9-d723-4ecc-8797-cda84dd6cc11",
   "metadata": {},
   "outputs": [],
   "source": [
    "conn = ps.connect(dbname=\"postgres\",\n",
    "                   user = \"ohdsi_admin_user\",\n",
    "                   password = \"admin1\",\n",
    "                   host = \"omop-db-postgress\",\n",
    "                   port = \"5432\")"
   ]
  },
  {
   "cell_type": "code",
   "execution_count": 3,
   "id": "aa6c0f33-352b-44a7-9411-4c6b20e8afa8",
   "metadata": {},
   "outputs": [
    {
     "name": "stderr",
     "output_type": "stream",
     "text": [
      "/tmp/ipykernel_782/1694805293.py:1: UserWarning: pandas only supports SQLAlchemy connectable (engine/connection) or database string URI or sqlite3 DBAPI2 connection. Other DBAPI2 objects are not tested. Please consider using SQLAlchemy.\n",
      "  df = sqlio.read_sql_query(\"SELECT * FROM person\", conn)\n"
     ]
    }
   ],
   "source": [
    "df = sqlio.read_sql_query(\"SELECT * FROM person\", conn)"
   ]
  },
  {
   "cell_type": "code",
   "execution_count": 4,
   "id": "06e54e3e-570b-4109-bb50-7ab8c7a94655",
   "metadata": {},
   "outputs": [
    {
     "data": {
      "text/html": [
       "<div>\n",
       "<style scoped>\n",
       "    .dataframe tbody tr th:only-of-type {\n",
       "        vertical-align: middle;\n",
       "    }\n",
       "\n",
       "    .dataframe tbody tr th {\n",
       "        vertical-align: top;\n",
       "    }\n",
       "\n",
       "    .dataframe thead th {\n",
       "        text-align: right;\n",
       "    }\n",
       "</style>\n",
       "<table border=\"1\" class=\"dataframe\">\n",
       "  <thead>\n",
       "    <tr style=\"text-align: right;\">\n",
       "      <th></th>\n",
       "      <th>id</th>\n",
       "      <th>name</th>\n",
       "      <th>age</th>\n",
       "      <th>email</th>\n",
       "    </tr>\n",
       "  </thead>\n",
       "  <tbody>\n",
       "    <tr>\n",
       "      <th>0</th>\n",
       "      <td>1</td>\n",
       "      <td>John Doe</td>\n",
       "      <td>25</td>\n",
       "      <td>john@example.com</td>\n",
       "    </tr>\n",
       "    <tr>\n",
       "      <th>1</th>\n",
       "      <td>2</td>\n",
       "      <td>Jane Smith</td>\n",
       "      <td>30</td>\n",
       "      <td>jane@example.com</td>\n",
       "    </tr>\n",
       "    <tr>\n",
       "      <th>2</th>\n",
       "      <td>3</td>\n",
       "      <td>Bob Johnson</td>\n",
       "      <td>28</td>\n",
       "      <td>bob@example.com</td>\n",
       "    </tr>\n",
       "    <tr>\n",
       "      <th>3</th>\n",
       "      <td>4</td>\n",
       "      <td>Alice Brown</td>\n",
       "      <td>22</td>\n",
       "      <td>alice@example.com</td>\n",
       "    </tr>\n",
       "    <tr>\n",
       "      <th>4</th>\n",
       "      <td>5</td>\n",
       "      <td>Charlie Davis</td>\n",
       "      <td>35</td>\n",
       "      <td>charlie@example.com</td>\n",
       "    </tr>\n",
       "  </tbody>\n",
       "</table>\n",
       "</div>"
      ],
      "text/plain": [
       "   id           name  age                email\n",
       "0   1       John Doe   25     john@example.com\n",
       "1   2     Jane Smith   30     jane@example.com\n",
       "2   3    Bob Johnson   28      bob@example.com\n",
       "3   4    Alice Brown   22    alice@example.com\n",
       "4   5  Charlie Davis   35  charlie@example.com"
      ]
     },
     "execution_count": 4,
     "metadata": {},
     "output_type": "execute_result"
    }
   ],
   "source": [
    "df.head()"
   ]
  }
 ],
 "metadata": {
  "kernelspec": {
   "display_name": "Python 3 (ipykernel)",
   "language": "python",
   "name": "python3"
  },
  "language_info": {
   "codemirror_mode": {
    "name": "ipython",
    "version": 3
   },
   "file_extension": ".py",
   "mimetype": "text/x-python",
   "name": "python",
   "nbconvert_exporter": "python",
   "pygments_lexer": "ipython3",
   "version": "3.10.11"
  }
 },
 "nbformat": 4,
 "nbformat_minor": 5
}
