{
 "cells": [
  {
   "cell_type": "markdown",
   "id": "ad98c696-d7a4-4925-b675-951c72c1b4a1",
   "metadata": {},
   "source": [
    "# OMOP Data Exploration and Analysis with PostgreSQL\n",
    "\n",
    "This jupyter notebook includes a example for querying and analyzing OMOP(Observational Medical Outcomes Partnership) data stored in a PostgreSQL database. The notebook covers essential steps, from establishing a connection to the database to executing SQL queries, and visualizing key insights.\n",
    "\n",
    "https://www.ohdsi.org/data-standardization/"
   ]
  },
  {
   "cell_type": "markdown",
   "id": "7827bc87-6ed0-4255-91af-fc6fb61d311e",
   "metadata": {},
   "source": [
    "### Importing required Libraries\n",
    "\n",
    "- **psycopg2** For establishing a connection between python and a PostgreSQL database.\n",
    "- **pandas** For efficient data handling, manipulation nad analysis of data.\n",
    "- **sqlio** For executing SQL queries and reading the results directly into pandas dataframe."
   ]
  },
  {
   "cell_type": "code",
   "execution_count": 1,
   "id": "458e5356-0d47-47d0-9682-e00e8dc36006",
   "metadata": {},
   "outputs": [],
   "source": [
    "import pandas as pd\n",
    "import pandas.io.sql as sqlio\n",
    "import psycopg2 as ps\n",
    "import warnings\n",
    "\n",
    "warnings.filterwarnings('ignore') #ignoring warning related to sqlio and sql alchemy. Will improve this."
   ]
  },
  {
   "cell_type": "markdown",
   "id": "87c660e4-44b3-4f43-95df-3eaa5d9ea293",
   "metadata": {},
   "source": [
    "### Database connection and setup\n",
    "\n",
    "Please change the username password to your OMOP DB."
   ]
  },
  {
   "cell_type": "code",
   "execution_count": 2,
   "id": "36d769d9-d723-4ecc-8797-cda84dd6cc11",
   "metadata": {},
   "outputs": [],
   "source": [
    "conn = ps.connect(dbname=\"ohdsi\",\n",
    "                   user = \"ohdsi_admin_user\",\n",
    "                   password = \"admin1\",\n",
    "                   host = \"omop-db-postgress\",\n",
    "                   port = \"5432\")"
   ]
  },
  {
   "cell_type": "markdown",
   "id": "b38fa84b-9574-49cf-b25c-a9f85eafbbeb",
   "metadata": {},
   "source": [
    "## Initial Analysis - Query Counts from OMOP DB\n",
    "### Number of Person"
   ]
  },
  {
   "cell_type": "code",
   "execution_count": 3,
   "id": "aa6c0f33-352b-44a7-9411-4c6b20e8afa8",
   "metadata": {},
   "outputs": [
    {
     "data": {
      "text/html": [
       "<div>\n",
       "<style scoped>\n",
       "    .dataframe tbody tr th:only-of-type {\n",
       "        vertical-align: middle;\n",
       "    }\n",
       "\n",
       "    .dataframe tbody tr th {\n",
       "        vertical-align: top;\n",
       "    }\n",
       "\n",
       "    .dataframe thead th {\n",
       "        text-align: right;\n",
       "    }\n",
       "</style>\n",
       "<table border=\"1\" class=\"dataframe\">\n",
       "  <thead>\n",
       "    <tr style=\"text-align: right;\">\n",
       "      <th></th>\n",
       "      <th>count</th>\n",
       "    </tr>\n",
       "  </thead>\n",
       "  <tbody>\n",
       "    <tr>\n",
       "      <th>0</th>\n",
       "      <td>130</td>\n",
       "    </tr>\n",
       "  </tbody>\n",
       "</table>\n",
       "</div>"
      ],
      "text/plain": [
       "   count\n",
       "0    130"
      ]
     },
     "execution_count": 3,
     "metadata": {},
     "output_type": "execute_result"
    }
   ],
   "source": [
    "df = sqlio.read_sql_query(\"SELECT COUNT(*) FROM cds_cdm.person\", conn)\n",
    "df.head()"
   ]
  },
  {
   "cell_type": "markdown",
   "id": "62e238fa-ea67-4e23-b785-e81c81c91a27",
   "metadata": {},
   "source": [
    "### Number of Observation"
   ]
  },
  {
   "cell_type": "code",
   "execution_count": 4,
   "id": "f61870f3-95ad-4edd-8663-5e1e3e76583d",
   "metadata": {},
   "outputs": [
    {
     "data": {
      "text/html": [
       "<div>\n",
       "<style scoped>\n",
       "    .dataframe tbody tr th:only-of-type {\n",
       "        vertical-align: middle;\n",
       "    }\n",
       "\n",
       "    .dataframe tbody tr th {\n",
       "        vertical-align: top;\n",
       "    }\n",
       "\n",
       "    .dataframe thead th {\n",
       "        text-align: right;\n",
       "    }\n",
       "</style>\n",
       "<table border=\"1\" class=\"dataframe\">\n",
       "  <thead>\n",
       "    <tr style=\"text-align: right;\">\n",
       "      <th></th>\n",
       "      <th>count</th>\n",
       "    </tr>\n",
       "  </thead>\n",
       "  <tbody>\n",
       "    <tr>\n",
       "      <th>0</th>\n",
       "      <td>9040</td>\n",
       "    </tr>\n",
       "  </tbody>\n",
       "</table>\n",
       "</div>"
      ],
      "text/plain": [
       "   count\n",
       "0   9040"
      ]
     },
     "execution_count": 4,
     "metadata": {},
     "output_type": "execute_result"
    }
   ],
   "source": [
    "df = sqlio.read_sql_query(\"SELECT COUNT(*) FROM cds_cdm.observation\", conn)\n",
    "df.head()"
   ]
  },
  {
   "cell_type": "markdown",
   "id": "bb52945d-337c-4d3e-b18e-c14728768f9a",
   "metadata": {},
   "source": [
    "### Number of Death"
   ]
  },
  {
   "cell_type": "code",
   "execution_count": 5,
   "id": "dcf1bb32-07e0-4578-8467-44384e8bdd1c",
   "metadata": {},
   "outputs": [
    {
     "data": {
      "text/html": [
       "<div>\n",
       "<style scoped>\n",
       "    .dataframe tbody tr th:only-of-type {\n",
       "        vertical-align: middle;\n",
       "    }\n",
       "\n",
       "    .dataframe tbody tr th {\n",
       "        vertical-align: top;\n",
       "    }\n",
       "\n",
       "    .dataframe thead th {\n",
       "        text-align: right;\n",
       "    }\n",
       "</style>\n",
       "<table border=\"1\" class=\"dataframe\">\n",
       "  <thead>\n",
       "    <tr style=\"text-align: right;\">\n",
       "      <th></th>\n",
       "      <th>count</th>\n",
       "    </tr>\n",
       "  </thead>\n",
       "  <tbody>\n",
       "    <tr>\n",
       "      <th>0</th>\n",
       "      <td>30</td>\n",
       "    </tr>\n",
       "  </tbody>\n",
       "</table>\n",
       "</div>"
      ],
      "text/plain": [
       "   count\n",
       "0     30"
      ]
     },
     "execution_count": 5,
     "metadata": {},
     "output_type": "execute_result"
    }
   ],
   "source": [
    "df = sqlio.read_sql_query(\"SELECT COUNT(*) FROM cds_cdm.death\", conn)\n",
    "df.head()"
   ]
  },
  {
   "cell_type": "markdown",
   "id": "da096dc8-72f9-4609-a5b9-e3429cc103c5",
   "metadata": {},
   "source": [
    "### Number of Procedure"
   ]
  },
  {
   "cell_type": "code",
   "execution_count": 6,
   "id": "ec2cae46-d2d3-4931-9d75-1e384d3415ab",
   "metadata": {},
   "outputs": [
    {
     "data": {
      "text/html": [
       "<div>\n",
       "<style scoped>\n",
       "    .dataframe tbody tr th:only-of-type {\n",
       "        vertical-align: middle;\n",
       "    }\n",
       "\n",
       "    .dataframe tbody tr th {\n",
       "        vertical-align: top;\n",
       "    }\n",
       "\n",
       "    .dataframe thead th {\n",
       "        text-align: right;\n",
       "    }\n",
       "</style>\n",
       "<table border=\"1\" class=\"dataframe\">\n",
       "  <thead>\n",
       "    <tr style=\"text-align: right;\">\n",
       "      <th></th>\n",
       "      <th>count</th>\n",
       "    </tr>\n",
       "  </thead>\n",
       "  <tbody>\n",
       "    <tr>\n",
       "      <th>0</th>\n",
       "      <td>9400</td>\n",
       "    </tr>\n",
       "  </tbody>\n",
       "</table>\n",
       "</div>"
      ],
      "text/plain": [
       "   count\n",
       "0   9400"
      ]
     },
     "execution_count": 6,
     "metadata": {},
     "output_type": "execute_result"
    }
   ],
   "source": [
    "df = sqlio.read_sql_query(\"SELECT COUNT(*) FROM cds_cdm.procedure_occurrence\", conn)\n",
    "df.head()"
   ]
  },
  {
   "cell_type": "markdown",
   "id": "c16e0af4-1ddf-48f4-9834-94e21700e14a",
   "metadata": {},
   "source": [
    "### Number of measurements eg: Height, Weight etc."
   ]
  },
  {
   "cell_type": "code",
   "execution_count": 7,
   "id": "9fcf177c-5ece-44ed-a13b-a860107a96ac",
   "metadata": {},
   "outputs": [
    {
     "data": {
      "text/html": [
       "<div>\n",
       "<style scoped>\n",
       "    .dataframe tbody tr th:only-of-type {\n",
       "        vertical-align: middle;\n",
       "    }\n",
       "\n",
       "    .dataframe tbody tr th {\n",
       "        vertical-align: top;\n",
       "    }\n",
       "\n",
       "    .dataframe thead th {\n",
       "        text-align: right;\n",
       "    }\n",
       "</style>\n",
       "<table border=\"1\" class=\"dataframe\">\n",
       "  <thead>\n",
       "    <tr style=\"text-align: right;\">\n",
       "      <th></th>\n",
       "      <th>count</th>\n",
       "    </tr>\n",
       "  </thead>\n",
       "  <tbody>\n",
       "    <tr>\n",
       "      <th>0</th>\n",
       "      <td>97087</td>\n",
       "    </tr>\n",
       "  </tbody>\n",
       "</table>\n",
       "</div>"
      ],
      "text/plain": [
       "   count\n",
       "0  97087"
      ]
     },
     "execution_count": 7,
     "metadata": {},
     "output_type": "execute_result"
    }
   ],
   "source": [
    "df = sqlio.read_sql_query(\"SELECT COUNT(*) FROM cds_cdm.measurement\", conn)\n",
    "df.head()"
   ]
  },
  {
   "cell_type": "markdown",
   "id": "1688363e-a733-45d9-ad8f-b893096ef2c1",
   "metadata": {},
   "source": [
    "### Describe Height meaurements"
   ]
  },
  {
   "cell_type": "code",
   "execution_count": 8,
   "id": "8e8b3b1f-483a-435e-bfb6-42ad4bb72e67",
   "metadata": {},
   "outputs": [
    {
     "data": {
      "text/plain": [
       "count    2048.000000\n",
       "mean      160.541455\n",
       "std        27.589257\n",
       "min        51.100000\n",
       "25%       162.700000\n",
       "50%       170.000000\n",
       "75%       175.400000\n",
       "max       189.300000\n",
       "Name: value_as_number, dtype: float64"
      ]
     },
     "execution_count": 8,
     "metadata": {},
     "output_type": "execute_result"
    }
   ],
   "source": [
    "df = sqlio.read_sql_query(\"SELECT * FROM cds_cdm.measurement where measurement_source_concept_id=3036277\", conn)\n",
    "df[\"value_as_number\"].describe()"
   ]
  },
  {
   "cell_type": "markdown",
   "id": "4439f8c3-b7f6-4d29-8d1e-0a0a2faa37c3",
   "metadata": {},
   "source": [
    "## Encounter visit longitudinal Analysis"
   ]
  },
  {
   "cell_type": "code",
   "execution_count": 9,
   "id": "d4013a2a-434e-4aa0-97e7-2cb33c6584b1",
   "metadata": {},
   "outputs": [
    {
     "data": {
      "text/html": [
       "<div>\n",
       "<style scoped>\n",
       "    .dataframe tbody tr th:only-of-type {\n",
       "        vertical-align: middle;\n",
       "    }\n",
       "\n",
       "    .dataframe tbody tr th {\n",
       "        vertical-align: top;\n",
       "    }\n",
       "\n",
       "    .dataframe thead th {\n",
       "        text-align: right;\n",
       "    }\n",
       "</style>\n",
       "<table border=\"1\" class=\"dataframe\">\n",
       "  <thead>\n",
       "    <tr style=\"text-align: right;\">\n",
       "      <th></th>\n",
       "      <th>visit_occurrence_id</th>\n",
       "      <th>person_id</th>\n",
       "      <th>visit_concept_id</th>\n",
       "      <th>visit_start_date</th>\n",
       "      <th>visit_start_datetime</th>\n",
       "      <th>visit_end_date</th>\n",
       "      <th>visit_end_datetime</th>\n",
       "      <th>visit_type_concept_id</th>\n",
       "      <th>provider_id</th>\n",
       "      <th>care_site_id</th>\n",
       "      <th>visit_source_value</th>\n",
       "      <th>visit_source_concept_id</th>\n",
       "      <th>admitting_source_concept_id</th>\n",
       "      <th>admitting_source_value</th>\n",
       "      <th>discharge_to_concept_id</th>\n",
       "      <th>discharge_to_source_value</th>\n",
       "      <th>preceding_visit_occurrence_id</th>\n",
       "      <th>fhir_identifier</th>\n",
       "      <th>fhir_logical_id</th>\n",
       "    </tr>\n",
       "  </thead>\n",
       "  <tbody>\n",
       "    <tr>\n",
       "      <th>0</th>\n",
       "      <td>1</td>\n",
       "      <td>1</td>\n",
       "      <td>9202</td>\n",
       "      <td>2014-02-28</td>\n",
       "      <td>2014-02-28 19:12:18</td>\n",
       "      <td>2014-02-28</td>\n",
       "      <td>2014-02-28 19:27:18</td>\n",
       "      <td>32817</td>\n",
       "      <td>None</td>\n",
       "      <td>None</td>\n",
       "      <td>None</td>\n",
       "      <td>None</td>\n",
       "      <td>None</td>\n",
       "      <td>None</td>\n",
       "      <td>None</td>\n",
       "      <td>None</td>\n",
       "      <td>None</td>\n",
       "      <td>None</td>\n",
       "      <td>enc-148814</td>\n",
       "    </tr>\n",
       "    <tr>\n",
       "      <th>1</th>\n",
       "      <td>2</td>\n",
       "      <td>1</td>\n",
       "      <td>9202</td>\n",
       "      <td>2016-05-27</td>\n",
       "      <td>2016-05-27 19:12:18</td>\n",
       "      <td>2016-05-27</td>\n",
       "      <td>2016-05-27 19:27:18</td>\n",
       "      <td>32817</td>\n",
       "      <td>None</td>\n",
       "      <td>None</td>\n",
       "      <td>None</td>\n",
       "      <td>None</td>\n",
       "      <td>None</td>\n",
       "      <td>None</td>\n",
       "      <td>None</td>\n",
       "      <td>None</td>\n",
       "      <td>None</td>\n",
       "      <td>None</td>\n",
       "      <td>enc-148902</td>\n",
       "    </tr>\n",
       "    <tr>\n",
       "      <th>2</th>\n",
       "      <td>3</td>\n",
       "      <td>1</td>\n",
       "      <td>9202</td>\n",
       "      <td>2019-12-13</td>\n",
       "      <td>2019-12-13 19:12:18</td>\n",
       "      <td>2019-12-13</td>\n",
       "      <td>2019-12-13 19:27:18</td>\n",
       "      <td>32817</td>\n",
       "      <td>None</td>\n",
       "      <td>None</td>\n",
       "      <td>None</td>\n",
       "      <td>None</td>\n",
       "      <td>None</td>\n",
       "      <td>None</td>\n",
       "      <td>None</td>\n",
       "      <td>None</td>\n",
       "      <td>None</td>\n",
       "      <td>None</td>\n",
       "      <td>enc-148983</td>\n",
       "    </tr>\n",
       "    <tr>\n",
       "      <th>3</th>\n",
       "      <td>4</td>\n",
       "      <td>1</td>\n",
       "      <td>9202</td>\n",
       "      <td>2020-07-17</td>\n",
       "      <td>2020-07-17 12:12:18</td>\n",
       "      <td>2020-07-17</td>\n",
       "      <td>2020-07-17 12:27:18</td>\n",
       "      <td>32817</td>\n",
       "      <td>None</td>\n",
       "      <td>None</td>\n",
       "      <td>None</td>\n",
       "      <td>None</td>\n",
       "      <td>None</td>\n",
       "      <td>None</td>\n",
       "      <td>None</td>\n",
       "      <td>None</td>\n",
       "      <td>None</td>\n",
       "      <td>None</td>\n",
       "      <td>enc-148998</td>\n",
       "    </tr>\n",
       "    <tr>\n",
       "      <th>4</th>\n",
       "      <td>5</td>\n",
       "      <td>1</td>\n",
       "      <td>9203</td>\n",
       "      <td>2020-12-10</td>\n",
       "      <td>2020-12-10 19:12:18</td>\n",
       "      <td>2020-12-10</td>\n",
       "      <td>2020-12-10 20:12:18</td>\n",
       "      <td>32817</td>\n",
       "      <td>None</td>\n",
       "      <td>None</td>\n",
       "      <td>None</td>\n",
       "      <td>None</td>\n",
       "      <td>None</td>\n",
       "      <td>None</td>\n",
       "      <td>None</td>\n",
       "      <td>None</td>\n",
       "      <td>None</td>\n",
       "      <td>None</td>\n",
       "      <td>enc-149006</td>\n",
       "    </tr>\n",
       "  </tbody>\n",
       "</table>\n",
       "</div>"
      ],
      "text/plain": [
       "   visit_occurrence_id  person_id  visit_concept_id visit_start_date  \\\n",
       "0                    1          1              9202       2014-02-28   \n",
       "1                    2          1              9202       2016-05-27   \n",
       "2                    3          1              9202       2019-12-13   \n",
       "3                    4          1              9202       2020-07-17   \n",
       "4                    5          1              9203       2020-12-10   \n",
       "\n",
       "  visit_start_datetime visit_end_date  visit_end_datetime  \\\n",
       "0  2014-02-28 19:12:18     2014-02-28 2014-02-28 19:27:18   \n",
       "1  2016-05-27 19:12:18     2016-05-27 2016-05-27 19:27:18   \n",
       "2  2019-12-13 19:12:18     2019-12-13 2019-12-13 19:27:18   \n",
       "3  2020-07-17 12:12:18     2020-07-17 2020-07-17 12:27:18   \n",
       "4  2020-12-10 19:12:18     2020-12-10 2020-12-10 20:12:18   \n",
       "\n",
       "   visit_type_concept_id provider_id care_site_id visit_source_value  \\\n",
       "0                  32817        None         None               None   \n",
       "1                  32817        None         None               None   \n",
       "2                  32817        None         None               None   \n",
       "3                  32817        None         None               None   \n",
       "4                  32817        None         None               None   \n",
       "\n",
       "  visit_source_concept_id admitting_source_concept_id admitting_source_value  \\\n",
       "0                    None                        None                   None   \n",
       "1                    None                        None                   None   \n",
       "2                    None                        None                   None   \n",
       "3                    None                        None                   None   \n",
       "4                    None                        None                   None   \n",
       "\n",
       "  discharge_to_concept_id discharge_to_source_value  \\\n",
       "0                    None                      None   \n",
       "1                    None                      None   \n",
       "2                    None                      None   \n",
       "3                    None                      None   \n",
       "4                    None                      None   \n",
       "\n",
       "  preceding_visit_occurrence_id fhir_identifier fhir_logical_id  \n",
       "0                          None            None      enc-148814  \n",
       "1                          None            None      enc-148902  \n",
       "2                          None            None      enc-148983  \n",
       "3                          None            None      enc-148998  \n",
       "4                          None            None      enc-149006  "
      ]
     },
     "execution_count": 9,
     "metadata": {},
     "output_type": "execute_result"
    }
   ],
   "source": [
    "df = sqlio.read_sql_query(f\"SELECT * FROM cds_cdm.visit_occurrence\", conn)\n",
    "df.head()"
   ]
  },
  {
   "cell_type": "code",
   "execution_count": 10,
   "id": "141269bd-ecc9-4beb-9650-b2baa82e690e",
   "metadata": {},
   "outputs": [
    {
     "data": {
      "text/plain": [
       "count    130.000000\n",
       "mean      83.230769\n",
       "std      146.124060\n",
       "min        1.000000\n",
       "25%       20.250000\n",
       "50%       35.000000\n",
       "75%       58.000000\n",
       "max      851.000000\n",
       "Name: count, dtype: float64"
      ]
     },
     "execution_count": 10,
     "metadata": {},
     "output_type": "execute_result"
    }
   ],
   "source": [
    "df = sqlio.read_sql_query(f\"SELECT person_id, COUNT(person_id) AS count FROM cds_cdm.visit_occurrence GROUP BY person_id\", conn)\n",
    "df[\"count\"].describe()"
   ]
  },
  {
   "cell_type": "markdown",
   "id": "38027ac4-1761-4947-a70b-8f3dd08617cc",
   "metadata": {},
   "source": [
    "### What has the person with max number of visits come for?"
   ]
  },
  {
   "cell_type": "code",
   "execution_count": 11,
   "id": "3a09940c-9f62-4ec6-bf70-9172dcb73a28",
   "metadata": {},
   "outputs": [
    {
     "name": "stdout",
     "output_type": "stream",
     "text": [
      "43\n",
      "   concept_id    concept_name  domain_id vocabulary_id concept_class_id  \\\n",
      "0     4146536  Renal dialysis  Procedure        SNOMED        Procedure   \n",
      "\n",
      "  standard_concept concept_code valid_start_date valid_end_date invalid_reason  \n",
      "0                S    265764009       2002-01-31     2099-12-31           None  \n"
     ]
    }
   ],
   "source": [
    "max_count = df[\"count\"].describe().max() \n",
    "person_id_max_visit = df.loc[df['count'] == max_count][\"person_id\"].item()\n",
    "print(person_id_max_visit)\n",
    "df_new = sqlio.read_sql_query(f\"SELECT * FROM cds_cdm.procedure_occurrence where person_id={person_id_max_visit}\", conn)\n",
    "procedure_concept_id = df_new['procedure_concept_id'].iat[0]\n",
    "procedure_reason = sqlio.read_sql_query(f\"SELECT * FROM cds_cdm.concept where concept_id={procedure_concept_id}\", conn)\n",
    "print(procedure_reason)"
   ]
  },
  {
   "cell_type": "markdown",
   "id": "11187c94-9507-4f5f-ae74-28e712c9016c",
   "metadata": {},
   "source": [
    "## Procedure specific longitudinal Analysis"
   ]
  },
  {
   "cell_type": "markdown",
   "id": "eada99aa-28d6-4f4c-8c9e-90245ec87f3b",
   "metadata": {},
   "source": [
    "### Enter OMOP code for a procedure eg: Mammography for breast cancer\n",
    "#### Search example\n",
    "https://athena.ohdsi.org/search-terms/terms?conceptClass=Procedure&page=1&pageSize=15&query=Mammography&boosts "
   ]
  },
  {
   "cell_type": "code",
   "execution_count": 12,
   "id": "c6992060-9669-4088-ac23-35f285eddc1f",
   "metadata": {},
   "outputs": [
    {
     "data": {
      "text/html": [
       "<div>\n",
       "<style scoped>\n",
       "    .dataframe tbody tr th:only-of-type {\n",
       "        vertical-align: middle;\n",
       "    }\n",
       "\n",
       "    .dataframe tbody tr th {\n",
       "        vertical-align: top;\n",
       "    }\n",
       "\n",
       "    .dataframe thead th {\n",
       "        text-align: right;\n",
       "    }\n",
       "</style>\n",
       "<table border=\"1\" class=\"dataframe\">\n",
       "  <thead>\n",
       "    <tr style=\"text-align: right;\">\n",
       "      <th></th>\n",
       "      <th>procedure_occurrence_id</th>\n",
       "      <th>person_id</th>\n",
       "      <th>procedure_concept_id</th>\n",
       "      <th>procedure_date</th>\n",
       "      <th>procedure_datetime</th>\n",
       "      <th>procedure_type_concept_id</th>\n",
       "      <th>modifier_concept_id</th>\n",
       "      <th>quantity</th>\n",
       "      <th>provider_id</th>\n",
       "      <th>visit_occurrence_id</th>\n",
       "      <th>visit_detail_id</th>\n",
       "      <th>procedure_source_value</th>\n",
       "      <th>procedure_source_concept_id</th>\n",
       "      <th>modifier_source_value</th>\n",
       "      <th>fhir_identifier</th>\n",
       "      <th>fhir_logical_id</th>\n",
       "    </tr>\n",
       "  </thead>\n",
       "  <tbody>\n",
       "    <tr>\n",
       "      <th>0</th>\n",
       "      <td>750</td>\n",
       "      <td>10</td>\n",
       "      <td>4324693</td>\n",
       "      <td>2020-02-25</td>\n",
       "      <td>2020-02-25 19:45:04</td>\n",
       "      <td>32817</td>\n",
       "      <td>None</td>\n",
       "      <td>None</td>\n",
       "      <td>None</td>\n",
       "      <td>2733</td>\n",
       "      <td>None</td>\n",
       "      <td>71651007</td>\n",
       "      <td>4324693</td>\n",
       "      <td>None</td>\n",
       "      <td>None</td>\n",
       "      <td>pro-171665</td>\n",
       "    </tr>\n",
       "    <tr>\n",
       "      <th>1</th>\n",
       "      <td>764</td>\n",
       "      <td>10</td>\n",
       "      <td>4324693</td>\n",
       "      <td>2021-02-08</td>\n",
       "      <td>2021-02-08 22:24:27</td>\n",
       "      <td>32817</td>\n",
       "      <td>None</td>\n",
       "      <td>None</td>\n",
       "      <td>None</td>\n",
       "      <td>2741</td>\n",
       "      <td>None</td>\n",
       "      <td>71651007</td>\n",
       "      <td>4324693</td>\n",
       "      <td>None</td>\n",
       "      <td>None</td>\n",
       "      <td>pro-171732</td>\n",
       "    </tr>\n",
       "    <tr>\n",
       "      <th>2</th>\n",
       "      <td>793</td>\n",
       "      <td>10</td>\n",
       "      <td>4324693</td>\n",
       "      <td>2023-01-24</td>\n",
       "      <td>2023-01-24 07:44:57</td>\n",
       "      <td>32817</td>\n",
       "      <td>None</td>\n",
       "      <td>None</td>\n",
       "      <td>None</td>\n",
       "      <td>2764</td>\n",
       "      <td>None</td>\n",
       "      <td>71651007</td>\n",
       "      <td>4324693</td>\n",
       "      <td>None</td>\n",
       "      <td>None</td>\n",
       "      <td>pro-171987</td>\n",
       "    </tr>\n",
       "    <tr>\n",
       "      <th>3</th>\n",
       "      <td>853</td>\n",
       "      <td>10</td>\n",
       "      <td>4324693</td>\n",
       "      <td>2022-02-20</td>\n",
       "      <td>2022-02-20 07:55:10</td>\n",
       "      <td>32817</td>\n",
       "      <td>None</td>\n",
       "      <td>None</td>\n",
       "      <td>None</td>\n",
       "      <td>2757</td>\n",
       "      <td>None</td>\n",
       "      <td>71651007</td>\n",
       "      <td>4324693</td>\n",
       "      <td>None</td>\n",
       "      <td>None</td>\n",
       "      <td>pro-171917</td>\n",
       "    </tr>\n",
       "    <tr>\n",
       "      <th>4</th>\n",
       "      <td>2010</td>\n",
       "      <td>23</td>\n",
       "      <td>4324693</td>\n",
       "      <td>2016-04-13</td>\n",
       "      <td>2016-04-13 21:39:15</td>\n",
       "      <td>32817</td>\n",
       "      <td>None</td>\n",
       "      <td>None</td>\n",
       "      <td>None</td>\n",
       "      <td>4518</td>\n",
       "      <td>None</td>\n",
       "      <td>71651007</td>\n",
       "      <td>4324693</td>\n",
       "      <td>None</td>\n",
       "      <td>None</td>\n",
       "      <td>pro-193832</td>\n",
       "    </tr>\n",
       "  </tbody>\n",
       "</table>\n",
       "</div>"
      ],
      "text/plain": [
       "   procedure_occurrence_id  person_id  procedure_concept_id procedure_date  \\\n",
       "0                      750         10               4324693     2020-02-25   \n",
       "1                      764         10               4324693     2021-02-08   \n",
       "2                      793         10               4324693     2023-01-24   \n",
       "3                      853         10               4324693     2022-02-20   \n",
       "4                     2010         23               4324693     2016-04-13   \n",
       "\n",
       "   procedure_datetime  procedure_type_concept_id modifier_concept_id quantity  \\\n",
       "0 2020-02-25 19:45:04                      32817                None     None   \n",
       "1 2021-02-08 22:24:27                      32817                None     None   \n",
       "2 2023-01-24 07:44:57                      32817                None     None   \n",
       "3 2022-02-20 07:55:10                      32817                None     None   \n",
       "4 2016-04-13 21:39:15                      32817                None     None   \n",
       "\n",
       "  provider_id  visit_occurrence_id visit_detail_id procedure_source_value  \\\n",
       "0        None                 2733            None               71651007   \n",
       "1        None                 2741            None               71651007   \n",
       "2        None                 2764            None               71651007   \n",
       "3        None                 2757            None               71651007   \n",
       "4        None                 4518            None               71651007   \n",
       "\n",
       "   procedure_source_concept_id modifier_source_value fhir_identifier  \\\n",
       "0                      4324693                  None            None   \n",
       "1                      4324693                  None            None   \n",
       "2                      4324693                  None            None   \n",
       "3                      4324693                  None            None   \n",
       "4                      4324693                  None            None   \n",
       "\n",
       "  fhir_logical_id  \n",
       "0      pro-171665  \n",
       "1      pro-171732  \n",
       "2      pro-171987  \n",
       "3      pro-171917  \n",
       "4      pro-193832  "
      ]
     },
     "execution_count": 12,
     "metadata": {},
     "output_type": "execute_result"
    }
   ],
   "source": [
    "omop_code = 4324693 #Code for Mammography. Please change this to the code that you are interested in.\n",
    "df = sqlio.read_sql_query(f\"SELECT * FROM cds_cdm.procedure_occurrence where procedure_concept_id={omop_code}\", conn)\n",
    "df.head()"
   ]
  },
  {
   "cell_type": "code",
   "execution_count": 13,
   "id": "31c46446-9997-4609-af07-892ef325745d",
   "metadata": {},
   "outputs": [
    {
     "data": {
      "text/html": [
       "<div>\n",
       "<style scoped>\n",
       "    .dataframe tbody tr th:only-of-type {\n",
       "        vertical-align: middle;\n",
       "    }\n",
       "\n",
       "    .dataframe tbody tr th {\n",
       "        vertical-align: top;\n",
       "    }\n",
       "\n",
       "    .dataframe thead th {\n",
       "        text-align: right;\n",
       "    }\n",
       "</style>\n",
       "<table border=\"1\" class=\"dataframe\">\n",
       "  <thead>\n",
       "    <tr style=\"text-align: right;\">\n",
       "      <th></th>\n",
       "      <th>person_id</th>\n",
       "      <th>count</th>\n",
       "    </tr>\n",
       "  </thead>\n",
       "  <tbody>\n",
       "    <tr>\n",
       "      <th>0</th>\n",
       "      <td>10</td>\n",
       "      <td>4</td>\n",
       "    </tr>\n",
       "    <tr>\n",
       "      <th>1</th>\n",
       "      <td>23</td>\n",
       "      <td>10</td>\n",
       "    </tr>\n",
       "    <tr>\n",
       "      <th>2</th>\n",
       "      <td>88</td>\n",
       "      <td>10</td>\n",
       "    </tr>\n",
       "  </tbody>\n",
       "</table>\n",
       "</div>"
      ],
      "text/plain": [
       "   person_id  count\n",
       "0         10      4\n",
       "1         23     10\n",
       "2         88     10"
      ]
     },
     "execution_count": 13,
     "metadata": {},
     "output_type": "execute_result"
    }
   ],
   "source": [
    "df = sqlio.read_sql_query(f\"SELECT person_id, COUNT(person_id) AS count FROM cds_cdm.procedure_occurrence where procedure_concept_id={omop_code} GROUP BY person_id\", conn)\n",
    "df"
   ]
  },
  {
   "cell_type": "code",
   "execution_count": null,
   "id": "f2e50be0-2795-4c3e-9400-6539cf7bba67",
   "metadata": {},
   "outputs": [],
   "source": []
  },
  {
   "cell_type": "code",
   "execution_count": null,
   "id": "3c6f5f66-b18f-430c-906b-43bcb31cea18",
   "metadata": {},
   "outputs": [],
   "source": []
  }
 ],
 "metadata": {
  "kernelspec": {
   "display_name": "Python 3 (ipykernel)",
   "language": "python",
   "name": "python3"
  },
  "language_info": {
   "codemirror_mode": {
    "name": "ipython",
    "version": 3
   },
   "file_extension": ".py",
   "mimetype": "text/x-python",
   "name": "python",
   "nbconvert_exporter": "python",
   "pygments_lexer": "ipython3",
   "version": "3.10.11"
  }
 },
 "nbformat": 4,
 "nbformat_minor": 5
}
